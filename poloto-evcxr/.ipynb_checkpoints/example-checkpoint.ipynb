{
 "cells": [
  {
   "cell_type": "code",
   "execution_count": 2,
   "id": "electrical-adams",
   "metadata": {
    "vscode": {
     "languageId": "rust"
    }
   },
   "outputs": [],
   "source": [
    ":dep poloto"
   ]
  },
  {
   "cell_type": "code",
   "execution_count": 3,
   "id": "electric-painting",
   "metadata": {
    "vscode": {
     "languageId": "rust"
    }
   },
   "outputs": [],
   "source": [
    ":dep poloto-evcxr"
   ]
  },
  {
   "cell_type": "code",
   "execution_count": 4,
   "id": "intermediate-billion",
   "metadata": {
    "vscode": {
     "languageId": "rust"
    }
   },
   "outputs": [],
   "source": [
    "let j=poloto::build::plot(\"a\").line(vec![5.0f64,1.0].into_iter().map(|a|(a,a)));"
   ]
  },
  {
   "cell_type": "code",
   "execution_count": 5,
   "id": "confirmed-collective",
   "metadata": {
    "vscode": {
     "languageId": "rust"
    }
   },
   "outputs": [],
   "source": [
    "let res=poloto::frame_build().data(j).build_and_label((\"hello\",\"x\",\"y\"));"
   ]
  },
  {
   "cell_type": "code",
   "execution_count": 6,
   "id": "formal-brick",
   "metadata": {
    "vscode": {
     "languageId": "rust"
    }
   },
   "outputs": [
    {
     "data": {
      "image/svg+xml": [
       "<svg class=\"poloto\" height=\"500\" style=\"stroke-linecap:round;stroke-linejoin:round;font-family:Roboto,sans-serif;font-size:16px;\" viewBox=\"0 0 800 500\" width=\"800\" xmlns=\"http://www.w3.org/2000/svg\">\n",
       "\t\n",
       "\t<circle class=\"poloto_background\" r=\"1e5\" style=\"fill:AliceBlue;\"></circle>\n",
       "\t<g class=\"poloto_plot poloto_imgs poloto_line poloto0 poloto_stroke\" fill=\"none\" id=\"poloto_plot0\" stroke=\"black\" style=\"stroke-width:2;stroke:blue;\">\n",
       "\t\t<path d=\" M 650.00 100.00 L 150.00 400.00\"></path>\n",
       "\t</g>\n",
       "\t<g class=\"poloto_legend poloto_imgs poloto_line poloto0 poloto_stroke\" style=\"stroke-width:2;stroke:blue;\"><line x1=\"680\" x2=\"730\" y1=\"81.25\" y2=\"81.25\"></line></g>\n",
       "\t<text class=\"poloto_legend poloto_text poloto_line poloto0\" style=\"stroke-width:2;fill: black;font-size:20px;dominant-baseline:middle;text-anchor:start;\" x=\"675\" y=\"100\"> a</text>\n",
       "\t<text class=\"poloto_text poloto_name poloto_title\" style=\"fill: black;font-size:24px;dominant-baseline:start;text-anchor:middle;\" x=\"400.00\" y=\"37.50\">hello</text>\n",
       "\t<text class=\"poloto_text poloto_name poloto_x\" style=\"fill: black;font-size:24px;dominant-baseline:start;text-anchor:middle;\" x=\"400.00\" y=\"481.25\">x</text>\n",
       "\t<text class=\"poloto_text poloto_name poloto_y\" style=\"fill: black;font-size:24px;dominant-baseline:start;text-anchor:middle;\" transform=\"rotate(-90,37.50,250.00)\" x=\"37.50\" y=\"250.00\">y</text>\n",
       "\t<text class=\"poloto_text poloto_ticks poloto_y\" style=\"fill: black;dominant-baseline:middle;text-anchor:end;\">\n",
       "\t\t<tspan x=\"135.00\" y=\"400.00\">1</tspan>\n",
       "\t\t<tspan x=\"135.00\" y=\"325.00\">2</tspan>\n",
       "\t\t<tspan x=\"135.00\" y=\"250.00\">3</tspan>\n",
       "\t\t<tspan x=\"135.00\" y=\"175.00\">4</tspan>\n",
       "\t\t<tspan x=\"135.00\" y=\"100.00\">5</tspan>\n",
       "\t</text>\n",
       "\t<g class=\"poloto_imgs poloto_ticks poloto_y\" style=\"stroke: black;stroke-width:3;fill:none;stroke-dasharray:none;\">\n",
       "\t\t<line x1=\"150.00\" x2=\"144.00\" y1=\"400.00\" y2=\"400.00\"></line>\n",
       "\t\t<line x1=\"150.00\" x2=\"144.00\" y1=\"325.00\" y2=\"325.00\"></line>\n",
       "\t\t<line x1=\"150.00\" x2=\"144.00\" y1=\"250.00\" y2=\"250.00\"></line>\n",
       "\t\t<line x1=\"150.00\" x2=\"144.00\" y1=\"175.00\" y2=\"175.00\"></line>\n",
       "\t\t<line x1=\"150.00\" x2=\"144.00\" y1=\"100.00\" y2=\"100.00\"></line>\n",
       "\t</g>\n",
       "\t<text class=\"poloto_text poloto_ticks poloto_x\" style=\"fill: black;dominant-baseline:start;text-anchor:middle;\">\n",
       "\t\t<tspan x=\"150.00\" y=\"430.00\">1.0</tspan>\n",
       "\t\t<tspan x=\"212.50\" y=\"430.00\">1.5</tspan>\n",
       "\t\t<tspan x=\"275.00\" y=\"430.00\">2.0</tspan>\n",
       "\t\t<tspan x=\"337.50\" y=\"430.00\">2.5</tspan>\n",
       "\t\t<tspan x=\"400.00\" y=\"430.00\">3.0</tspan>\n",
       "\t\t<tspan x=\"462.50\" y=\"430.00\">3.5</tspan>\n",
       "\t\t<tspan x=\"525.00\" y=\"430.00\">4.0</tspan>\n",
       "\t\t<tspan x=\"587.50\" y=\"430.00\">4.5</tspan>\n",
       "\t\t<tspan x=\"650.00\" y=\"430.00\">5.0</tspan>\n",
       "\t</text>\n",
       "\t<g class=\"poloto_imgs poloto_ticks poloto_x\" style=\"stroke: black;stroke-width:3;fill:none;stroke-dasharray:none;\">\n",
       "\t\t<line x1=\"150.00\" x2=\"150.00\" y1=\"400.00\" y2=\"405.00\"></line>\n",
       "\t\t<line x1=\"212.50\" x2=\"212.50\" y1=\"400.00\" y2=\"405.00\"></line>\n",
       "\t\t<line x1=\"275.00\" x2=\"275.00\" y1=\"400.00\" y2=\"405.00\"></line>\n",
       "\t\t<line x1=\"337.50\" x2=\"337.50\" y1=\"400.00\" y2=\"405.00\"></line>\n",
       "\t\t<line x1=\"400.00\" x2=\"400.00\" y1=\"400.00\" y2=\"405.00\"></line>\n",
       "\t\t<line x1=\"462.50\" x2=\"462.50\" y1=\"400.00\" y2=\"405.00\"></line>\n",
       "\t\t<line x1=\"525.00\" x2=\"525.00\" y1=\"400.00\" y2=\"405.00\"></line>\n",
       "\t\t<line x1=\"587.50\" x2=\"587.50\" y1=\"400.00\" y2=\"405.00\"></line>\n",
       "\t\t<line x1=\"650.00\" x2=\"650.00\" y1=\"400.00\" y2=\"405.00\"></line>\n",
       "\t</g>\n",
       "\t<path class=\"poloto_imgs poloto_ticks poloto_x\" d=\" M 150.00 400.00 L 650.00 400.00\" style=\"stroke-dasharray: 6.25;stroke-dashoffset: -0;stroke: black;stroke-width: 3;fill: none\"></path>\n",
       "\t<path class=\"poloto_imgs poloto_ticks poloto_y\" d=\" M 150.00 400.00 L 150.00 100.00\" style=\"stroke-dasharray: 7.5;stroke-dashoffset: -0;stroke: black;stroke-width: 3;fill: none\"></path>\n",
       "</svg>\n"
      ]
     },
     "execution_count": 6,
     "metadata": {},
     "output_type": "execute_result"
    }
   ],
   "source": [
    "poloto_evcxr::evcxr_display_svg(res.append_to(poloto::header().light_theme()));"
   ]
  }
 ],
 "metadata": {
  "kernelspec": {
   "display_name": "Rust",
   "language": "rust",
   "name": "rust"
  },
  "language_info": {
   "codemirror_mode": "rust",
   "file_extension": ".rs",
   "mimetype": "text/rust",
   "name": "Rust",
   "pygment_lexer": "rust",
   "version": ""
  }
 },
 "nbformat": 4,
 "nbformat_minor": 5
}
