{
 "cells": [
  {
   "cell_type": "markdown",
   "id": "6ef1230c",
   "metadata": {},
   "source": [
    "First lets import poloto."
   ]
  },
  {
   "cell_type": "code",
   "execution_count": 2,
   "id": "electrical-adams",
   "metadata": {
    "vscode": {
     "languageId": "rust"
    }
   },
   "outputs": [],
   "source": [
    ":dep poloto"
   ]
  },
  {
   "cell_type": "markdown",
   "id": "a3da3dd8",
   "metadata": {},
   "source": [
    "Next import evcxr rendering for poloto."
   ]
  },
  {
   "cell_type": "code",
   "execution_count": 3,
   "id": "3846a0fa",
   "metadata": {
    "vscode": {
     "languageId": "rust"
    }
   },
   "outputs": [],
   "source": [
    ":dep poloto-evcxr\n",
    "use poloto_evcxr::prelude::*;"
   ]
  },
  {
   "cell_type": "markdown",
   "id": "b2f5582f",
   "metadata": {},
   "source": [
    "Now lets make a simple function that just displays one plot to avoid having to write alot of boilerplate."
   ]
  },
  {
   "cell_type": "code",
   "execution_count": 4,
   "id": "electric-painting",
   "metadata": {
    "vscode": {
     "languageId": "rust"
    }
   },
   "outputs": [],
   "source": [
    "// import hypermelon crate so that we can manually append elements.\n",
    ":dep hypermelon\n",
    "fn show(it:impl IntoIterator<Item=[f64;2]>){\n",
    "    \n",
    "    use hypermelon::prelude::*;\n",
    "    let j=poloto::build::plot(\"a\").line(it.into_iter());\n",
    "    let svg = poloto::header().with_dim([400.0,300.0]);\n",
    "    let style=poloto::render::Theme::dark();\n",
    "    let res=poloto::frame()\n",
    "        .with_tick_lines([true, true])\n",
    "        .build()\n",
    "        .data(j)\n",
    "        .build_and_label((\"hello\",\"x\",\"y\"));\n",
    "    res.append_to(svg.append(style)).render_evcxr();\n",
    "}"
   ]
  },
  {
   "cell_type": "markdown",
   "id": "732be9b6",
   "metadata": {},
   "source": [
    "Ok now lets plot some data."
   ]
  },
  {
   "cell_type": "code",
   "execution_count": 5,
   "id": "formal-brick",
   "metadata": {
    "vscode": {
     "languageId": "rust"
    }
   },
   "outputs": [
    {
     "data": {
      "text/html": [
       "<img src=\"data:image/svg+xml;base64,PHN2ZyBjbGFzcz0icG9sb3RvIiB3aWR0aD0iNDAwIiBoZWlnaHQ9IjMwMCIgdmlld0JveD0iMCAwIDgwMCA1MDAiIHhtbG5zPSJodHRwOi8vd3d3LnczLm9yZy8yMDAwL3N2ZyI+PHN0eWxlPiAucG9sb3RvewogIHN0cm9rZS1saW5lY2FwOnJvdW5kOwogIHN0cm9rZS1saW5lam9pbjpyb3VuZDsKICBmb250LWZhbWlseTpSb2JvdG8sc2Fucy1zZXJpZjsKICBmb250LXNpemU6MTZweDsKfQoucG9sb3RvX2JhY2tncm91bmR7ZmlsbDojMjYyNjI2O30KLnBvbG90b19zY2F0dGVye3N0cm9rZS13aWR0aDo3fQoucG9sb3RvX2xpbmV7c3Ryb2tlLXdpZHRoOjJ9Ci5wb2xvdG9fdGV4dHtmaWxsOiB3aGl0ZTt9Ci5wb2xvdG9fbmFtZXtmb250LXNpemU6MjRweDtkb21pbmFudC1iYXNlbGluZTpzdGFydDt0ZXh0LWFuY2hvcjptaWRkbGU7fQoucG9sb3RvX3doZXJle2RvbWluYW50LWJhc2VsaW5lOm1pZGRsZTt0ZXh0LWFuY2hvcjpzdGFydH0KLnBvbG90b190ZXh0LnBvbG90b19sZWdlbmR7Zm9udC1zaXplOjIwcHg7ZG9taW5hbnQtYmFzZWxpbmU6bWlkZGxlO3RleHQtYW5jaG9yOnN0YXJ0O30KLnBvbG90b190ZXh0LnBvbG90b190aWNrcy5wb2xvdG9feXtkb21pbmFudC1iYXNlbGluZTptaWRkbGU7dGV4dC1hbmNob3I6ZW5kfQoucG9sb3RvX3RleHQucG9sb3RvX3RpY2tzLnBvbG90b194e2RvbWluYW50LWJhc2VsaW5lOnN0YXJ0O3RleHQtYW5jaG9yOm1pZGRsZX0KLnBvbG90b19pbWdzLnBvbG90b190aWNrc3tzdHJva2U6IHdoaXRlO3N0cm9rZS13aWR0aDozO2ZpbGw6bm9uZTtzdHJva2UtZGFzaGFycmF5Om5vbmV9Ci5wb2xvdG9fZ3JpZHtzdHJva2U6Z3JheTtzdHJva2Utd2lkdGg6MC41fQoKLnBvbG90bzAucG9sb3RvX3N0cm9rZXtzdHJva2U6Ymx1ZTt9Ci5wb2xvdG8xLnBvbG90b19zdHJva2V7c3Ryb2tlOnJlZDt9Ci5wb2xvdG8yLnBvbG90b19zdHJva2V7c3Ryb2tlOmdyZWVuO30KLnBvbG90bzMucG9sb3RvX3N0cm9rZXtzdHJva2U6Z29sZDt9Ci5wb2xvdG80LnBvbG90b19zdHJva2V7c3Ryb2tlOmFxdWE7fQoucG9sb3RvNS5wb2xvdG9fc3Ryb2tle3N0cm9rZTpsaW1lO30KLnBvbG90bzYucG9sb3RvX3N0cm9rZXtzdHJva2U6b3JhbmdlO30KLnBvbG90bzcucG9sb3RvX3N0cm9rZXtzdHJva2U6Y2hvY29sYXRlO30KLnBvbG90bzAucG9sb3RvX2ZpbGx7ZmlsbDpibHVlO30KLnBvbG90bzEucG9sb3RvX2ZpbGx7ZmlsbDpyZWQ7fQoucG9sb3RvMi5wb2xvdG9fZmlsbHtmaWxsOmdyZWVuO30KLnBvbG90bzMucG9sb3RvX2ZpbGx7ZmlsbDpnb2xkO30KLnBvbG90bzQucG9sb3RvX2ZpbGx7ZmlsbDphcXVhO30KLnBvbG90bzUucG9sb3RvX2ZpbGx7ZmlsbDpsaW1lO30KLnBvbG90bzYucG9sb3RvX2ZpbGx7ZmlsbDpvcmFuZ2U7fQoucG9sb3RvNy5wb2xvdG9fZmlsbHtmaWxsOmNob2NvbGF0ZTt9PC9zdHlsZT48Y2lyY2xlIHI9IjFlNSIgY2xhc3M9InBvbG90b19iYWNrZ3JvdW5kIi8+PGcgaWQ9InBvbG90b19wbG90MCIgY2xhc3M9InBvbG90b19wbG90IHBvbG90b19pbWdzIHBvbG90b19saW5lIHBvbG90bzAgcG9sb3RvX3N0cm9rZSIgZmlsbD0ibm9uZSIgc3Ryb2tlPSJibGFjayI+PHBhdGggZD0iIE0gMTUwLjAwIDQwMC4wMCBMIDMxNi42NyAzNDAuMDAgTCA2NTAuMDAgMTAwLjAwIi8+PC9nPjxnIGNsYXNzPSJwb2xvdG9fbGVnZW5kIHBvbG90b19pbWdzIHBvbG90b19saW5lIHBvbG90bzAgcG9sb3RvX3N0cm9rZSI+PGxpbmUgeDE9IjY4MCIgeDI9IjczMCIgeTE9IjgxLjI1IiB5Mj0iODEuMjUiLz48L2c+PHRleHQgY2xhc3M9InBvbG90b19sZWdlbmQgcG9sb3RvX3RleHQgcG9sb3RvX2xpbmUgcG9sb3RvMCIgeD0iNjc1IiB5PSIxMDAiPiBhPC90ZXh0Pjx0ZXh0IGNsYXNzPSJwb2xvdG9fdGV4dCBwb2xvdG9fbmFtZSBwb2xvdG9fdGl0bGUiIHg9IjQwMC4wMCIgeT0iMzcuNTAiPmhlbGxvPC90ZXh0Pjx0ZXh0IGNsYXNzPSJwb2xvdG9fdGV4dCBwb2xvdG9fbmFtZSBwb2xvdG9feCIgeD0iNDAwLjAwIiB5PSI0ODEuMjUiPng8L3RleHQ+PHRleHQgY2xhc3M9InBvbG90b190ZXh0IHBvbG90b19uYW1lIHBvbG90b195IiB4PSIzNy41MCIgeT0iMjUwLjAwIiB0cmFuc2Zvcm09InJvdGF0ZSgtOTAsMzcuNTAsMjUwLjAwKSI+eTwvdGV4dD48dGV4dCBjbGFzcz0icG9sb3RvX3RleHQgcG9sb3RvX3RpY2tzIHBvbG90b195Ij48dHNwYW4geD0iMTM1LjAwIiB5PSI0MDAuMDAiPjA8L3RzcGFuPjx0c3BhbiB4PSIxMzUuMDAiIHk9IjM0MC4wMCI+MTwvdHNwYW4+PHRzcGFuIHg9IjEzNS4wMCIgeT0iMjgwLjAwIj4yPC90c3Bhbj48dHNwYW4geD0iMTM1LjAwIiB5PSIyMjAuMDAiPjM8L3RzcGFuPjx0c3BhbiB4PSIxMzUuMDAiIHk9IjE2MC4wMCI+NDwvdHNwYW4+PHRzcGFuIHg9IjEzNS4wMCIgeT0iMTAwLjAwIj41PC90c3Bhbj48L3RleHQ+PGcgY2xhc3M9InBvbG90b19pbWdzIHBvbG90b190aWNrcyBwb2xvdG9feSI+PGxpbmUgeDE9IjE1MC4wMCIgeDI9IjE0NC4wMCIgeTE9IjQwMC4wMCIgeTI9IjQwMC4wMCIvPjxsaW5lIHgxPSIxNTAuMDAiIHgyPSIxNDQuMDAiIHkxPSIzNDAuMDAiIHkyPSIzNDAuMDAiLz48bGluZSB4MT0iMTUwLjAwIiB4Mj0iMTQ0LjAwIiB5MT0iMjgwLjAwIiB5Mj0iMjgwLjAwIi8+PGxpbmUgeDE9IjE1MC4wMCIgeDI9IjE0NC4wMCIgeTE9IjIyMC4wMCIgeTI9IjIyMC4wMCIvPjxsaW5lIHgxPSIxNTAuMDAiIHgyPSIxNDQuMDAiIHkxPSIxNjAuMDAiIHkyPSIxNjAuMDAiLz48bGluZSB4MT0iMTUwLjAwIiB4Mj0iMTQ0LjAwIiB5MT0iMTAwLjAwIiB5Mj0iMTAwLjAwIi8+PC9nPjxnIGNsYXNzPSJwb2xvdG9fZ3JpZCBwb2xvdG9feSI+PGxpbmUgeDE9IjE1MC4wMCIgeDI9IjY1MC4wMCIgeTE9IjQwMC4wMCIgeTI9IjQwMC4wMCIvPjxsaW5lIHgxPSIxNTAuMDAiIHgyPSI2NTAuMDAiIHkxPSIzNDAuMDAiIHkyPSIzNDAuMDAiLz48bGluZSB4MT0iMTUwLjAwIiB4Mj0iNjUwLjAwIiB5MT0iMjgwLjAwIiB5Mj0iMjgwLjAwIi8+PGxpbmUgeDE9IjE1MC4wMCIgeDI9IjY1MC4wMCIgeTE9IjIyMC4wMCIgeTI9IjIyMC4wMCIvPjxsaW5lIHgxPSIxNTAuMDAiIHgyPSI2NTAuMDAiIHkxPSIxNjAuMDAiIHkyPSIxNjAuMDAiLz48bGluZSB4MT0iMTUwLjAwIiB4Mj0iNjUwLjAwIiB5MT0iMTAwLjAwIiB5Mj0iMTAwLjAwIi8+PC9nPjx0ZXh0IGNsYXNzPSJwb2xvdG9fdGV4dCBwb2xvdG9fdGlja3MgcG9sb3RvX3giPjx0c3BhbiB4PSIxNTAuMDAiIHk9IjQzMC4wMCI+MC4wPC90c3Bhbj48dHNwYW4geD0iMjMzLjMzIiB5PSI0MzAuMDAiPjAuNTwvdHNwYW4+PHRzcGFuIHg9IjMxNi42NyIgeT0iNDMwLjAwIj4xLjA8L3RzcGFuPjx0c3BhbiB4PSI0MDAuMDAiIHk9IjQzMC4wMCI+MS41PC90c3Bhbj48dHNwYW4geD0iNDgzLjMzIiB5PSI0MzAuMDAiPjIuMDwvdHNwYW4+PHRzcGFuIHg9IjU2Ni42NyIgeT0iNDMwLjAwIj4yLjU8L3RzcGFuPjx0c3BhbiB4PSI2NTAuMDAiIHk9IjQzMC4wMCI+My4wPC90c3Bhbj48L3RleHQ+PGcgY2xhc3M9InBvbG90b19pbWdzIHBvbG90b190aWNrcyBwb2xvdG9feCI+PGxpbmUgeDE9IjE1MC4wMCIgeDI9IjE1MC4wMCIgeTE9IjQwMC4wMCIgeTI9IjQwNS4wMCIvPjxsaW5lIHgxPSIyMzMuMzMiIHgyPSIyMzMuMzMiIHkxPSI0MDAuMDAiIHkyPSI0MDUuMDAiLz48bGluZSB4MT0iMzE2LjY3IiB4Mj0iMzE2LjY3IiB5MT0iNDAwLjAwIiB5Mj0iNDA1LjAwIi8+PGxpbmUgeDE9IjQwMC4wMCIgeDI9IjQwMC4wMCIgeTE9IjQwMC4wMCIgeTI9IjQwNS4wMCIvPjxsaW5lIHgxPSI0ODMuMzMiIHgyPSI0ODMuMzMiIHkxPSI0MDAuMDAiIHkyPSI0MDUuMDAiLz48bGluZSB4MT0iNTY2LjY3IiB4Mj0iNTY2LjY3IiB5MT0iNDAwLjAwIiB5Mj0iNDA1LjAwIi8+PGxpbmUgeDE9IjY1MC4wMCIgeDI9IjY1MC4wMCIgeTE9IjQwMC4wMCIgeTI9IjQwNS4wMCIvPjwvZz48ZyBjbGFzcz0icG9sb3RvX2dyaWQgcG9sb3RvX3giPjxsaW5lIHgxPSIxNTAuMDAiIHgyPSIxNTAuMDAiIHkxPSI0MDAuMDAiIHkyPSIxMDAuMDAiLz48bGluZSB4MT0iMjMzLjMzIiB4Mj0iMjMzLjMzIiB5MT0iNDAwLjAwIiB5Mj0iMTAwLjAwIi8+PGxpbmUgeDE9IjMxNi42NyIgeDI9IjMxNi42NyIgeTE9IjQwMC4wMCIgeTI9IjEwMC4wMCIvPjxsaW5lIHgxPSI0MDAuMDAiIHgyPSI0MDAuMDAiIHkxPSI0MDAuMDAiIHkyPSIxMDAuMDAiLz48bGluZSB4MT0iNDgzLjMzIiB4Mj0iNDgzLjMzIiB5MT0iNDAwLjAwIiB5Mj0iMTAwLjAwIi8+PGxpbmUgeDE9IjU2Ni42NyIgeDI9IjU2Ni42NyIgeTE9IjQwMC4wMCIgeTI9IjEwMC4wMCIvPjxsaW5lIHgxPSI2NTAuMDAiIHgyPSI2NTAuMDAiIHkxPSI0MDAuMDAiIHkyPSIxMDAuMDAiLz48L2c+PHBhdGggY2xhc3M9InBvbG90b19pbWdzIHBvbG90b190aWNrcyBwb2xvdG9feCIgc3R5bGU9InN0cm9rZS1kYXNoYXJyYXk6OC4zMzMzMzMzMzMzMzMzMzI7c3Ryb2tlLWRhc2hvZmZzZXQ6LTA7IiBkPSIgTSAxNTAuMDAgNDAwLjAwIEwgNjUwLjAwIDQwMC4wMCIvPjxwYXRoIGNsYXNzPSJwb2xvdG9faW1ncyBwb2xvdG9fdGlja3MgcG9sb3RvX3kiIHN0eWxlPSJzdHJva2UtZGFzaGFycmF5OjY7c3Ryb2tlLWRhc2hvZmZzZXQ6LTA7IiBkPSIgTSAxNTAuMDAgNDAwLjAwIEwgMTUwLjAwIDEwMC4wMCIvPjwvc3ZnPgo=\"/>\n"
      ]
     },
     "execution_count": 5,
     "metadata": {},
     "output_type": "execute_result"
    }
   ],
   "source": [
    "let data=vec!([0.0,0.0],[1.0,1.0],[3.0,5.0]);\n",
    "show(data);"
   ]
  },
  {
   "cell_type": "markdown",
   "id": "dc51bea8",
   "metadata": {},
   "source": [
    "Ok cool. Now lets change the data."
   ]
  },
  {
   "cell_type": "code",
   "execution_count": 6,
   "id": "1a0df4d4",
   "metadata": {
    "vscode": {
     "languageId": "rust"
    }
   },
   "outputs": [
    {
     "data": {
      "text/html": [
       "<img src=\"data:image/svg+xml;base64,PHN2ZyBjbGFzcz0icG9sb3RvIiB3aWR0aD0iNDAwIiBoZWlnaHQ9IjMwMCIgdmlld0JveD0iMCAwIDgwMCA1MDAiIHhtbG5zPSJodHRwOi8vd3d3LnczLm9yZy8yMDAwL3N2ZyI+PHN0eWxlPiAucG9sb3RvewogIHN0cm9rZS1saW5lY2FwOnJvdW5kOwogIHN0cm9rZS1saW5lam9pbjpyb3VuZDsKICBmb250LWZhbWlseTpSb2JvdG8sc2Fucy1zZXJpZjsKICBmb250LXNpemU6MTZweDsKfQoucG9sb3RvX2JhY2tncm91bmR7ZmlsbDojMjYyNjI2O30KLnBvbG90b19zY2F0dGVye3N0cm9rZS13aWR0aDo3fQoucG9sb3RvX2xpbmV7c3Ryb2tlLXdpZHRoOjJ9Ci5wb2xvdG9fdGV4dHtmaWxsOiB3aGl0ZTt9Ci5wb2xvdG9fbmFtZXtmb250LXNpemU6MjRweDtkb21pbmFudC1iYXNlbGluZTpzdGFydDt0ZXh0LWFuY2hvcjptaWRkbGU7fQoucG9sb3RvX3doZXJle2RvbWluYW50LWJhc2VsaW5lOm1pZGRsZTt0ZXh0LWFuY2hvcjpzdGFydH0KLnBvbG90b190ZXh0LnBvbG90b19sZWdlbmR7Zm9udC1zaXplOjIwcHg7ZG9taW5hbnQtYmFzZWxpbmU6bWlkZGxlO3RleHQtYW5jaG9yOnN0YXJ0O30KLnBvbG90b190ZXh0LnBvbG90b190aWNrcy5wb2xvdG9feXtkb21pbmFudC1iYXNlbGluZTptaWRkbGU7dGV4dC1hbmNob3I6ZW5kfQoucG9sb3RvX3RleHQucG9sb3RvX3RpY2tzLnBvbG90b194e2RvbWluYW50LWJhc2VsaW5lOnN0YXJ0O3RleHQtYW5jaG9yOm1pZGRsZX0KLnBvbG90b19pbWdzLnBvbG90b190aWNrc3tzdHJva2U6IHdoaXRlO3N0cm9rZS13aWR0aDozO2ZpbGw6bm9uZTtzdHJva2UtZGFzaGFycmF5Om5vbmV9Ci5wb2xvdG9fZ3JpZHtzdHJva2U6Z3JheTtzdHJva2Utd2lkdGg6MC41fQoKLnBvbG90bzAucG9sb3RvX3N0cm9rZXtzdHJva2U6Ymx1ZTt9Ci5wb2xvdG8xLnBvbG90b19zdHJva2V7c3Ryb2tlOnJlZDt9Ci5wb2xvdG8yLnBvbG90b19zdHJva2V7c3Ryb2tlOmdyZWVuO30KLnBvbG90bzMucG9sb3RvX3N0cm9rZXtzdHJva2U6Z29sZDt9Ci5wb2xvdG80LnBvbG90b19zdHJva2V7c3Ryb2tlOmFxdWE7fQoucG9sb3RvNS5wb2xvdG9fc3Ryb2tle3N0cm9rZTpsaW1lO30KLnBvbG90bzYucG9sb3RvX3N0cm9rZXtzdHJva2U6b3JhbmdlO30KLnBvbG90bzcucG9sb3RvX3N0cm9rZXtzdHJva2U6Y2hvY29sYXRlO30KLnBvbG90bzAucG9sb3RvX2ZpbGx7ZmlsbDpibHVlO30KLnBvbG90bzEucG9sb3RvX2ZpbGx7ZmlsbDpyZWQ7fQoucG9sb3RvMi5wb2xvdG9fZmlsbHtmaWxsOmdyZWVuO30KLnBvbG90bzMucG9sb3RvX2ZpbGx7ZmlsbDpnb2xkO30KLnBvbG90bzQucG9sb3RvX2ZpbGx7ZmlsbDphcXVhO30KLnBvbG90bzUucG9sb3RvX2ZpbGx7ZmlsbDpsaW1lO30KLnBvbG90bzYucG9sb3RvX2ZpbGx7ZmlsbDpvcmFuZ2U7fQoucG9sb3RvNy5wb2xvdG9fZmlsbHtmaWxsOmNob2NvbGF0ZTt9PC9zdHlsZT48Y2lyY2xlIHI9IjFlNSIgY2xhc3M9InBvbG90b19iYWNrZ3JvdW5kIi8+PGcgaWQ9InBvbG90b19wbG90MCIgY2xhc3M9InBvbG90b19wbG90IHBvbG90b19pbWdzIHBvbG90b19saW5lIHBvbG90bzAgcG9sb3RvX3N0cm9rZSIgZmlsbD0ibm9uZSIgc3Ryb2tlPSJibGFjayI+PHBhdGggZD0iIE0gMTUwLjAwIDEwMC4wMCBMIDQwMC4wMCAzNDAuMDAgTCA2NTAuMDAgNDAwLjAwIi8+PC9nPjxnIGNsYXNzPSJwb2xvdG9fbGVnZW5kIHBvbG90b19pbWdzIHBvbG90b19saW5lIHBvbG90bzAgcG9sb3RvX3N0cm9rZSI+PGxpbmUgeDE9IjY4MCIgeDI9IjczMCIgeTE9IjgxLjI1IiB5Mj0iODEuMjUiLz48L2c+PHRleHQgY2xhc3M9InBvbG90b19sZWdlbmQgcG9sb3RvX3RleHQgcG9sb3RvX2xpbmUgcG9sb3RvMCIgeD0iNjc1IiB5PSIxMDAiPiBhPC90ZXh0Pjx0ZXh0IGNsYXNzPSJwb2xvdG9fdGV4dCBwb2xvdG9fbmFtZSBwb2xvdG9fdGl0bGUiIHg9IjQwMC4wMCIgeT0iMzcuNTAiPmhlbGxvPC90ZXh0Pjx0ZXh0IGNsYXNzPSJwb2xvdG9fdGV4dCBwb2xvdG9fbmFtZSBwb2xvdG9feCIgeD0iNDAwLjAwIiB5PSI0ODEuMjUiPng8L3RleHQ+PHRleHQgY2xhc3M9InBvbG90b190ZXh0IHBvbG90b19uYW1lIHBvbG90b195IiB4PSIzNy41MCIgeT0iMjUwLjAwIiB0cmFuc2Zvcm09InJvdGF0ZSgtOTAsMzcuNTAsMjUwLjAwKSI+eTwvdGV4dD48dGV4dCBjbGFzcz0icG9sb3RvX3RleHQgcG9sb3RvX3RpY2tzIHBvbG90b195Ij48dHNwYW4geD0iMTM1LjAwIiB5PSI0MDAuMDAiPjA8L3RzcGFuPjx0c3BhbiB4PSIxMzUuMDAiIHk9IjM0MC4wMCI+MTwvdHNwYW4+PHRzcGFuIHg9IjEzNS4wMCIgeT0iMjgwLjAwIj4yPC90c3Bhbj48dHNwYW4geD0iMTM1LjAwIiB5PSIyMjAuMDAiPjM8L3RzcGFuPjx0c3BhbiB4PSIxMzUuMDAiIHk9IjE2MC4wMCI+NDwvdHNwYW4+PHRzcGFuIHg9IjEzNS4wMCIgeT0iMTAwLjAwIj41PC90c3Bhbj48L3RleHQ+PGcgY2xhc3M9InBvbG90b19pbWdzIHBvbG90b190aWNrcyBwb2xvdG9feSI+PGxpbmUgeDE9IjE1MC4wMCIgeDI9IjE0NC4wMCIgeTE9IjQwMC4wMCIgeTI9IjQwMC4wMCIvPjxsaW5lIHgxPSIxNTAuMDAiIHgyPSIxNDQuMDAiIHkxPSIzNDAuMDAiIHkyPSIzNDAuMDAiLz48bGluZSB4MT0iMTUwLjAwIiB4Mj0iMTQ0LjAwIiB5MT0iMjgwLjAwIiB5Mj0iMjgwLjAwIi8+PGxpbmUgeDE9IjE1MC4wMCIgeDI9IjE0NC4wMCIgeTE9IjIyMC4wMCIgeTI9IjIyMC4wMCIvPjxsaW5lIHgxPSIxNTAuMDAiIHgyPSIxNDQuMDAiIHkxPSIxNjAuMDAiIHkyPSIxNjAuMDAiLz48bGluZSB4MT0iMTUwLjAwIiB4Mj0iMTQ0LjAwIiB5MT0iMTAwLjAwIiB5Mj0iMTAwLjAwIi8+PC9nPjxnIGNsYXNzPSJwb2xvdG9fZ3JpZCBwb2xvdG9feSI+PGxpbmUgeDE9IjE1MC4wMCIgeDI9IjY1MC4wMCIgeTE9IjQwMC4wMCIgeTI9IjQwMC4wMCIvPjxsaW5lIHgxPSIxNTAuMDAiIHgyPSI2NTAuMDAiIHkxPSIzNDAuMDAiIHkyPSIzNDAuMDAiLz48bGluZSB4MT0iMTUwLjAwIiB4Mj0iNjUwLjAwIiB5MT0iMjgwLjAwIiB5Mj0iMjgwLjAwIi8+PGxpbmUgeDE9IjE1MC4wMCIgeDI9IjY1MC4wMCIgeTE9IjIyMC4wMCIgeTI9IjIyMC4wMCIvPjxsaW5lIHgxPSIxNTAuMDAiIHgyPSI2NTAuMDAiIHkxPSIxNjAuMDAiIHkyPSIxNjAuMDAiLz48bGluZSB4MT0iMTUwLjAwIiB4Mj0iNjUwLjAwIiB5MT0iMTAwLjAwIiB5Mj0iMTAwLjAwIi8+PC9nPjx0ZXh0IGNsYXNzPSJwb2xvdG9fdGV4dCBwb2xvdG9fdGlja3MgcG9sb3RvX3giPjx0c3BhbiB4PSIxNTAuMDAiIHk9IjQzMC4wMCI+MS4wPC90c3Bhbj48dHNwYW4geD0iMjc1LjAwIiB5PSI0MzAuMDAiPjEuNTwvdHNwYW4+PHRzcGFuIHg9IjQwMC4wMCIgeT0iNDMwLjAwIj4yLjA8L3RzcGFuPjx0c3BhbiB4PSI1MjUuMDAiIHk9IjQzMC4wMCI+Mi41PC90c3Bhbj48dHNwYW4geD0iNjUwLjAwIiB5PSI0MzAuMDAiPjMuMDwvdHNwYW4+PC90ZXh0PjxnIGNsYXNzPSJwb2xvdG9faW1ncyBwb2xvdG9fdGlja3MgcG9sb3RvX3giPjxsaW5lIHgxPSIxNTAuMDAiIHgyPSIxNTAuMDAiIHkxPSI0MDAuMDAiIHkyPSI0MDUuMDAiLz48bGluZSB4MT0iMjc1LjAwIiB4Mj0iMjc1LjAwIiB5MT0iNDAwLjAwIiB5Mj0iNDA1LjAwIi8+PGxpbmUgeDE9IjQwMC4wMCIgeDI9IjQwMC4wMCIgeTE9IjQwMC4wMCIgeTI9IjQwNS4wMCIvPjxsaW5lIHgxPSI1MjUuMDAiIHgyPSI1MjUuMDAiIHkxPSI0MDAuMDAiIHkyPSI0MDUuMDAiLz48bGluZSB4MT0iNjUwLjAwIiB4Mj0iNjUwLjAwIiB5MT0iNDAwLjAwIiB5Mj0iNDA1LjAwIi8+PC9nPjxnIGNsYXNzPSJwb2xvdG9fZ3JpZCBwb2xvdG9feCI+PGxpbmUgeDE9IjE1MC4wMCIgeDI9IjE1MC4wMCIgeTE9IjQwMC4wMCIgeTI9IjEwMC4wMCIvPjxsaW5lIHgxPSIyNzUuMDAiIHgyPSIyNzUuMDAiIHkxPSI0MDAuMDAiIHkyPSIxMDAuMDAiLz48bGluZSB4MT0iNDAwLjAwIiB4Mj0iNDAwLjAwIiB5MT0iNDAwLjAwIiB5Mj0iMTAwLjAwIi8+PGxpbmUgeDE9IjUyNS4wMCIgeDI9IjUyNS4wMCIgeTE9IjQwMC4wMCIgeTI9IjEwMC4wMCIvPjxsaW5lIHgxPSI2NTAuMDAiIHgyPSI2NTAuMDAiIHkxPSI0MDAuMDAiIHkyPSIxMDAuMDAiLz48L2c+PHBhdGggY2xhc3M9InBvbG90b19pbWdzIHBvbG90b190aWNrcyBwb2xvdG9feCIgc3R5bGU9InN0cm9rZS1kYXNoYXJyYXk6MTIuNTtzdHJva2UtZGFzaG9mZnNldDotMDsiIGQ9IiBNIDE1MC4wMCA0MDAuMDAgTCA2NTAuMDAgNDAwLjAwIi8+PHBhdGggY2xhc3M9InBvbG90b19pbWdzIHBvbG90b190aWNrcyBwb2xvdG9feSIgc3R5bGU9InN0cm9rZS1kYXNoYXJyYXk6NjtzdHJva2UtZGFzaG9mZnNldDotMDsiIGQ9IiBNIDE1MC4wMCA0MDAuMDAgTCAxNTAuMDAgMTAwLjAwIi8+PC9zdmc+Cg==\"/>\n"
      ]
     },
     "execution_count": 6,
     "metadata": {},
     "output_type": "execute_result"
    }
   ],
   "source": [
    "let data=vec!([1.0,5.0],[2.0,1.0],[3.0,0.0]);\n",
    "show(data);"
   ]
  },
  {
   "cell_type": "markdown",
   "id": "0a1c4e67",
   "metadata": {},
   "source": [
    "Oh no now the data is going down!"
   ]
  }
 ],
 "metadata": {
  "kernelspec": {
   "display_name": "Rust",
   "language": "rust",
   "name": "rust"
  },
  "language_info": {
   "codemirror_mode": "rust",
   "file_extension": ".rs",
   "mimetype": "text/rust",
   "name": "Rust",
   "pygment_lexer": "rust",
   "version": ""
  }
 },
 "nbformat": 4,
 "nbformat_minor": 5
}
