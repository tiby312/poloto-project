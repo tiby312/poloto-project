{
 "cells": [
  {
   "cell_type": "markdown",
   "id": "89b2af5b",
   "metadata": {},
   "source": [
    "NOTE: The github viewer doesnt support custom css at this time. To view this notebook correctly, use\n",
    "an external viewer something like https://jsvine.github.io/nbpreview/."
   ]
  },
  {
   "cell_type": "markdown",
   "id": "6ef1230c",
   "metadata": {},
   "source": [
    "First lets import poloto."
   ]
  },
  {
   "cell_type": "code",
   "execution_count": 2,
   "id": "electrical-adams",
   "metadata": {},
   "outputs": [],
   "source": [
    ":dep poloto"
   ]
  },
  {
   "cell_type": "markdown",
   "id": "a3da3dd8",
   "metadata": {},
   "source": [
    "Next import evcxr rendering for poloto."
   ]
  },
  {
   "cell_type": "code",
   "execution_count": 3,
   "id": "3846a0fa",
   "metadata": {},
   "outputs": [],
   "source": [
    ":dep poloto-evcxr\n",
    "use poloto_evcxr::prelude::*;"
   ]
  },
  {
   "cell_type": "markdown",
   "id": "b2f5582f",
   "metadata": {},
   "source": [
    "Now lets make a simple function that just displays one plot to avoid having to write alot of boilerplate."
   ]
  },
  {
   "cell_type": "code",
   "execution_count": 4,
   "id": "electric-painting",
   "metadata": {},
   "outputs": [],
   "source": [
    "// import hypermelon crate so that we can manually append elements.\n",
    ":dep hypermelon\n",
    "fn show(it:impl IntoIterator<Item=[f64;2]>){\n",
    "    \n",
    "    use hypermelon::prelude::*;\n",
    "    let j=poloto::build::plot(\"a\").line(it.into_iter());\n",
    "    let svg = poloto::header().with_dim([400.0,300.0]);\n",
    "    let style=poloto::render::Theme::dark();\n",
    "    let res=poloto::frame()\n",
    "        .with_tick_lines([true, true])\n",
    "        .build()\n",
    "        .data(j)\n",
    "        .build_and_label((\"hello\",\"x\",\"y\"));\n",
    "    res.append_to(svg.append(style)).render_evcxr();\n",
    "}"
   ]
  },
  {
   "cell_type": "markdown",
   "id": "732be9b6",
   "metadata": {},
   "source": [
    "Ok now lets plot some data."
   ]
  },
  {
   "cell_type": "code",
   "execution_count": 5,
   "id": "formal-brick",
   "metadata": {},
   "outputs": [
    {
     "data": {
      "text/html": [
       "<svg class=\"poloto\" width=\"400\" height=\"300\" viewBox=\"0 0 800 500\" xmlns=\"http://www.w3.org/2000/svg\"><style> .poloto{  stroke-linecap:round;  stroke-linejoin:round;  font-family:Roboto,sans-serif;  font-size:16px;}.poloto_background{fill:#262626;}.poloto_scatter{stroke-width:7}.poloto_line{stroke-width:2}.poloto_text{fill: white;}.poloto_name{font-size:24px;dominant-baseline:start;text-anchor:middle;}.poloto_where{dominant-baseline:middle;text-anchor:start}.poloto_text.poloto_legend{font-size:20px;dominant-baseline:middle;text-anchor:start;}.poloto_text.poloto_ticks.poloto_y{dominant-baseline:middle;text-anchor:end}.poloto_text.poloto_ticks.poloto_x{dominant-baseline:start;text-anchor:middle}.poloto_imgs.poloto_ticks{stroke: white;stroke-width:3;fill:none;stroke-dasharray:none}.poloto_grid{stroke:gray;stroke-width:0.5}.poloto0.poloto_stroke{stroke:blue;}.poloto1.poloto_stroke{stroke:red;}.poloto2.poloto_stroke{stroke:green;}.poloto3.poloto_stroke{stroke:gold;}.poloto4.poloto_stroke{stroke:aqua;}.poloto5.poloto_stroke{stroke:lime;}.poloto6.poloto_stroke{stroke:orange;}.poloto7.poloto_stroke{stroke:chocolate;}.poloto0.poloto_fill{fill:blue;}.poloto1.poloto_fill{fill:red;}.poloto2.poloto_fill{fill:green;}.poloto3.poloto_fill{fill:gold;}.poloto4.poloto_fill{fill:aqua;}.poloto5.poloto_fill{fill:lime;}.poloto6.poloto_fill{fill:orange;}.poloto7.poloto_fill{fill:chocolate;}</style><circle r=\"1e5\" class=\"poloto_background\" fill=\"white\"/><g id=\"poloto_plot0\" class=\"poloto_plot poloto_imgs poloto_line poloto0 poloto_stroke\" fill=\"none\" stroke=\"black\"><path d=\" M 150.00 400.00 L 316.67 340.00 L 650.00 100.00\"/></g><g class=\"poloto_legend poloto_imgs poloto_line poloto0 poloto_stroke\"><line x1=\"680\" x2=\"730\" y1=\"81.25\" y2=\"81.25\"/></g><text class=\"poloto_legend poloto_text poloto_line poloto0\" x=\"675\" y=\"100\"> a</text><text class=\"poloto_text poloto_name poloto_title\" x=\"400.00\" y=\"37.50\">hello</text><text class=\"poloto_text poloto_name poloto_x\" x=\"400.00\" y=\"481.25\">x</text><text class=\"poloto_text poloto_name poloto_y\" x=\"37.50\" y=\"250.00\" transform=\"rotate(-90,37.50,250.00)\">y</text><text class=\"poloto_text poloto_ticks poloto_y\"><tspan x=\"135.00\" y=\"400.00\">0</tspan><tspan x=\"135.00\" y=\"340.00\">1</tspan><tspan x=\"135.00\" y=\"280.00\">2</tspan><tspan x=\"135.00\" y=\"220.00\">3</tspan><tspan x=\"135.00\" y=\"160.00\">4</tspan><tspan x=\"135.00\" y=\"100.00\">5</tspan></text><g class=\"poloto_imgs poloto_ticks poloto_y\" stroke=\"black\"><line x1=\"150.00\" x2=\"144.00\" y1=\"400.00\" y2=\"400.00\"/><line x1=\"150.00\" x2=\"144.00\" y1=\"340.00\" y2=\"340.00\"/><line x1=\"150.00\" x2=\"144.00\" y1=\"280.00\" y2=\"280.00\"/><line x1=\"150.00\" x2=\"144.00\" y1=\"220.00\" y2=\"220.00\"/><line x1=\"150.00\" x2=\"144.00\" y1=\"160.00\" y2=\"160.00\"/><line x1=\"150.00\" x2=\"144.00\" y1=\"100.00\" y2=\"100.00\"/></g><g class=\"poloto_grid poloto_y\" stroke=\"black\"><line x1=\"150.00\" x2=\"650.00\" y1=\"400.00\" y2=\"400.00\"/><line x1=\"150.00\" x2=\"650.00\" y1=\"340.00\" y2=\"340.00\"/><line x1=\"150.00\" x2=\"650.00\" y1=\"280.00\" y2=\"280.00\"/><line x1=\"150.00\" x2=\"650.00\" y1=\"220.00\" y2=\"220.00\"/><line x1=\"150.00\" x2=\"650.00\" y1=\"160.00\" y2=\"160.00\"/><line x1=\"150.00\" x2=\"650.00\" y1=\"100.00\" y2=\"100.00\"/></g><text class=\"poloto_text poloto_ticks poloto_x\"><tspan x=\"150.00\" y=\"430.00\">0.0</tspan><tspan x=\"233.33\" y=\"430.00\">0.5</tspan><tspan x=\"316.67\" y=\"430.00\">1.0</tspan><tspan x=\"400.00\" y=\"430.00\">1.5</tspan><tspan x=\"483.33\" y=\"430.00\">2.0</tspan><tspan x=\"566.67\" y=\"430.00\">2.5</tspan><tspan x=\"650.00\" y=\"430.00\">3.0</tspan></text><g class=\"poloto_imgs poloto_ticks poloto_x\" stroke=\"black\"><line x1=\"150.00\" x2=\"150.00\" y1=\"400.00\" y2=\"405.00\"/><line x1=\"233.33\" x2=\"233.33\" y1=\"400.00\" y2=\"405.00\"/><line x1=\"316.67\" x2=\"316.67\" y1=\"400.00\" y2=\"405.00\"/><line x1=\"400.00\" x2=\"400.00\" y1=\"400.00\" y2=\"405.00\"/><line x1=\"483.33\" x2=\"483.33\" y1=\"400.00\" y2=\"405.00\"/><line x1=\"566.67\" x2=\"566.67\" y1=\"400.00\" y2=\"405.00\"/><line x1=\"650.00\" x2=\"650.00\" y1=\"400.00\" y2=\"405.00\"/></g><g class=\"poloto_grid poloto_x\" stroke=\"black\"><line x1=\"150.00\" x2=\"150.00\" y1=\"400.00\" y2=\"100.00\"/><line x1=\"233.33\" x2=\"233.33\" y1=\"400.00\" y2=\"100.00\"/><line x1=\"316.67\" x2=\"316.67\" y1=\"400.00\" y2=\"100.00\"/><line x1=\"400.00\" x2=\"400.00\" y1=\"400.00\" y2=\"100.00\"/><line x1=\"483.33\" x2=\"483.33\" y1=\"400.00\" y2=\"100.00\"/><line x1=\"566.67\" x2=\"566.67\" y1=\"400.00\" y2=\"100.00\"/><line x1=\"650.00\" x2=\"650.00\" y1=\"400.00\" y2=\"100.00\"/></g><path class=\"poloto_imgs poloto_ticks poloto_x\" stroke=\"black\" style=\"stroke-dasharray:8.333333333333332;stroke-dashoffset:-0;\" d=\" M 150.00 400.00 L 650.00 400.00\"/><path class=\"poloto_imgs poloto_ticks poloto_y\" stroke=\"black\" style=\"stroke-dasharray:6;stroke-dashoffset:-0;\" d=\" M 150.00 400.00 L 150.00 100.00\"/></svg>"
      ]
     },
     "execution_count": 5,
     "metadata": {},
     "output_type": "execute_result"
    }
   ],
   "source": [
    "let data=vec!([0.0,0.0],[1.0,1.0],[3.0,5.0]);\n",
    "show(data);"
   ]
  },
  {
   "cell_type": "markdown",
   "id": "dc51bea8",
   "metadata": {},
   "source": [
    "Ok cool. Now lets change the data."
   ]
  },
  {
   "cell_type": "code",
   "execution_count": 6,
   "id": "1a0df4d4",
   "metadata": {},
   "outputs": [
    {
     "data": {
      "text/html": [
       "<svg class=\"poloto\" width=\"400\" height=\"300\" viewBox=\"0 0 800 500\" xmlns=\"http://www.w3.org/2000/svg\"><style> .poloto{  stroke-linecap:round;  stroke-linejoin:round;  font-family:Roboto,sans-serif;  font-size:16px;}.poloto_background{fill:#262626;}.poloto_scatter{stroke-width:7}.poloto_line{stroke-width:2}.poloto_text{fill: white;}.poloto_name{font-size:24px;dominant-baseline:start;text-anchor:middle;}.poloto_where{dominant-baseline:middle;text-anchor:start}.poloto_text.poloto_legend{font-size:20px;dominant-baseline:middle;text-anchor:start;}.poloto_text.poloto_ticks.poloto_y{dominant-baseline:middle;text-anchor:end}.poloto_text.poloto_ticks.poloto_x{dominant-baseline:start;text-anchor:middle}.poloto_imgs.poloto_ticks{stroke: white;stroke-width:3;fill:none;stroke-dasharray:none}.poloto_grid{stroke:gray;stroke-width:0.5}.poloto0.poloto_stroke{stroke:blue;}.poloto1.poloto_stroke{stroke:red;}.poloto2.poloto_stroke{stroke:green;}.poloto3.poloto_stroke{stroke:gold;}.poloto4.poloto_stroke{stroke:aqua;}.poloto5.poloto_stroke{stroke:lime;}.poloto6.poloto_stroke{stroke:orange;}.poloto7.poloto_stroke{stroke:chocolate;}.poloto0.poloto_fill{fill:blue;}.poloto1.poloto_fill{fill:red;}.poloto2.poloto_fill{fill:green;}.poloto3.poloto_fill{fill:gold;}.poloto4.poloto_fill{fill:aqua;}.poloto5.poloto_fill{fill:lime;}.poloto6.poloto_fill{fill:orange;}.poloto7.poloto_fill{fill:chocolate;}</style><circle r=\"1e5\" class=\"poloto_background\" fill=\"white\"/><g id=\"poloto_plot0\" class=\"poloto_plot poloto_imgs poloto_line poloto0 poloto_stroke\" fill=\"none\" stroke=\"black\"><path d=\" M 150.00 100.00 L 400.00 340.00 L 650.00 400.00\"/></g><g class=\"poloto_legend poloto_imgs poloto_line poloto0 poloto_stroke\"><line x1=\"680\" x2=\"730\" y1=\"81.25\" y2=\"81.25\"/></g><text class=\"poloto_legend poloto_text poloto_line poloto0\" x=\"675\" y=\"100\"> a</text><text class=\"poloto_text poloto_name poloto_title\" x=\"400.00\" y=\"37.50\">hello</text><text class=\"poloto_text poloto_name poloto_x\" x=\"400.00\" y=\"481.25\">x</text><text class=\"poloto_text poloto_name poloto_y\" x=\"37.50\" y=\"250.00\" transform=\"rotate(-90,37.50,250.00)\">y</text><text class=\"poloto_text poloto_ticks poloto_y\"><tspan x=\"135.00\" y=\"400.00\">0</tspan><tspan x=\"135.00\" y=\"340.00\">1</tspan><tspan x=\"135.00\" y=\"280.00\">2</tspan><tspan x=\"135.00\" y=\"220.00\">3</tspan><tspan x=\"135.00\" y=\"160.00\">4</tspan><tspan x=\"135.00\" y=\"100.00\">5</tspan></text><g class=\"poloto_imgs poloto_ticks poloto_y\" stroke=\"black\"><line x1=\"150.00\" x2=\"144.00\" y1=\"400.00\" y2=\"400.00\"/><line x1=\"150.00\" x2=\"144.00\" y1=\"340.00\" y2=\"340.00\"/><line x1=\"150.00\" x2=\"144.00\" y1=\"280.00\" y2=\"280.00\"/><line x1=\"150.00\" x2=\"144.00\" y1=\"220.00\" y2=\"220.00\"/><line x1=\"150.00\" x2=\"144.00\" y1=\"160.00\" y2=\"160.00\"/><line x1=\"150.00\" x2=\"144.00\" y1=\"100.00\" y2=\"100.00\"/></g><g class=\"poloto_grid poloto_y\" stroke=\"black\"><line x1=\"150.00\" x2=\"650.00\" y1=\"400.00\" y2=\"400.00\"/><line x1=\"150.00\" x2=\"650.00\" y1=\"340.00\" y2=\"340.00\"/><line x1=\"150.00\" x2=\"650.00\" y1=\"280.00\" y2=\"280.00\"/><line x1=\"150.00\" x2=\"650.00\" y1=\"220.00\" y2=\"220.00\"/><line x1=\"150.00\" x2=\"650.00\" y1=\"160.00\" y2=\"160.00\"/><line x1=\"150.00\" x2=\"650.00\" y1=\"100.00\" y2=\"100.00\"/></g><text class=\"poloto_text poloto_ticks poloto_x\"><tspan x=\"150.00\" y=\"430.00\">1.0</tspan><tspan x=\"275.00\" y=\"430.00\">1.5</tspan><tspan x=\"400.00\" y=\"430.00\">2.0</tspan><tspan x=\"525.00\" y=\"430.00\">2.5</tspan><tspan x=\"650.00\" y=\"430.00\">3.0</tspan></text><g class=\"poloto_imgs poloto_ticks poloto_x\" stroke=\"black\"><line x1=\"150.00\" x2=\"150.00\" y1=\"400.00\" y2=\"405.00\"/><line x1=\"275.00\" x2=\"275.00\" y1=\"400.00\" y2=\"405.00\"/><line x1=\"400.00\" x2=\"400.00\" y1=\"400.00\" y2=\"405.00\"/><line x1=\"525.00\" x2=\"525.00\" y1=\"400.00\" y2=\"405.00\"/><line x1=\"650.00\" x2=\"650.00\" y1=\"400.00\" y2=\"405.00\"/></g><g class=\"poloto_grid poloto_x\" stroke=\"black\"><line x1=\"150.00\" x2=\"150.00\" y1=\"400.00\" y2=\"100.00\"/><line x1=\"275.00\" x2=\"275.00\" y1=\"400.00\" y2=\"100.00\"/><line x1=\"400.00\" x2=\"400.00\" y1=\"400.00\" y2=\"100.00\"/><line x1=\"525.00\" x2=\"525.00\" y1=\"400.00\" y2=\"100.00\"/><line x1=\"650.00\" x2=\"650.00\" y1=\"400.00\" y2=\"100.00\"/></g><path class=\"poloto_imgs poloto_ticks poloto_x\" stroke=\"black\" style=\"stroke-dasharray:12.5;stroke-dashoffset:-0;\" d=\" M 150.00 400.00 L 650.00 400.00\"/><path class=\"poloto_imgs poloto_ticks poloto_y\" stroke=\"black\" style=\"stroke-dasharray:6;stroke-dashoffset:-0;\" d=\" M 150.00 400.00 L 150.00 100.00\"/></svg>"
      ]
     },
     "execution_count": 6,
     "metadata": {},
     "output_type": "execute_result"
    }
   ],
   "source": [
    "let data=vec!([1.0,5.0],[2.0,1.0],[3.0,0.0]);\n",
    "show(data);"
   ]
  },
  {
   "cell_type": "markdown",
   "id": "0a1c4e67",
   "metadata": {},
   "source": [
    "Oh no now the data is going down!"
   ]
  }
 ],
 "metadata": {
  "kernelspec": {
   "display_name": "Rust",
   "language": "rust",
   "name": "rust"
  },
  "language_info": {
   "codemirror_mode": "rust",
   "file_extension": ".rs",
   "mimetype": "text/rust",
   "name": "rust",
   "pygment_lexer": "rust",
   "version": ""
  }
 },
 "nbformat": 4,
 "nbformat_minor": 5
}
