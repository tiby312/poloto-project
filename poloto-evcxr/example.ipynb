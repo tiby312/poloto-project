{
 "cells": [
  {
   "cell_type": "markdown",
   "id": "89b2af5b",
   "metadata": {},
   "source": [
    "NOTE: The github viewer doesnt support custom css in a svg at this time. To view this notebook correctly, use\n",
    "an external viewer something like https://jsvine.github.io/nbpreview/."
   ]
  },
  {
   "cell_type": "markdown",
   "id": "6ef1230c",
   "metadata": {},
   "source": [
    "First lets import poloto."
   ]
  },
  {
   "cell_type": "code",
   "execution_count": 70,
   "id": "electrical-adams",
   "metadata": {
    "vscode": {
     "languageId": "rust"
    }
   },
   "outputs": [],
   "source": [
    ":dep poloto"
   ]
  },
  {
   "cell_type": "markdown",
   "id": "a3da3dd8",
   "metadata": {},
   "source": [
    "Next import evcxr rendering for poloto."
   ]
  },
  {
   "cell_type": "code",
   "execution_count": 71,
   "id": "3846a0fa",
   "metadata": {
    "vscode": {
     "languageId": "rust"
    }
   },
   "outputs": [],
   "source": [
    ":dep poloto-evcxr\n",
    "use poloto_evcxr::prelude::*;"
   ]
  },
  {
   "cell_type": "markdown",
   "id": "d42d7a7b",
   "metadata": {},
   "source": [
    "Lets load just one css for all poloto graphs in this notebook."
   ]
  },
  {
   "cell_type": "code",
   "execution_count": 72,
   "id": "1c9f9912",
   "metadata": {
    "vscode": {
     "languageId": "rust"
    }
   },
   "outputs": [
    {
     "data": {
      "text/html": [
       "<style>\n",
       ".poloto{\n",
       "    stroke-linecap:round;\n",
       "    stroke-linejoin:round;\n",
       "    font-family:Roboto,sans-serif;\n",
       "    font-size:16px;\n",
       "  }\n",
       "  .poloto_background{fill:AliceBlue;}\n",
       "  .poloto_scatter{stroke-width:7}\n",
       "  .poloto_line{stroke-width:2}\n",
       "  .poloto_text{fill: black;}\n",
       "  .poloto_name{font-size:24px;dominant-baseline:auto;text-anchor:middle;}\n",
       "  .poloto_where{dominant-baseline:middle;text-anchor:start}\n",
       "  .poloto_text.poloto_legend{font-size:20px;dominant-baseline:middle;text-anchor:start;}\n",
       "  .poloto_text.poloto_ticks.poloto_y{dominant-baseline:middle;text-anchor:end}\n",
       "  .poloto_text.poloto_ticks.poloto_x{dominant-baseline:auto;text-anchor:middle}\n",
       "  .poloto_imgs.poloto_ticks{stroke: black;stroke-width:3;fill:none;stroke-dasharray:none}\n",
       "  .poloto_grid{stroke:gray;stroke-width:0.5}\n",
       "  \n",
       "  .poloto0.poloto_stroke{stroke:blue;}\n",
       "  .poloto1.poloto_stroke{stroke:red;}\n",
       "  .poloto2.poloto_stroke{stroke:green;}\n",
       "  .poloto3.poloto_stroke{stroke:gold;}\n",
       "  .poloto4.poloto_stroke{stroke:aqua;}\n",
       "  .poloto5.poloto_stroke{stroke:lime;}\n",
       "  .poloto6.poloto_stroke{stroke:orange;}\n",
       "  .poloto7.poloto_stroke{stroke:chocolate;}\n",
       "  .poloto0.poloto_fill{fill:blue;}\n",
       "  .poloto1.poloto_fill{fill:red;}\n",
       "  .poloto2.poloto_fill{fill:green;}\n",
       "  .poloto3.poloto_fill{fill:gold;}\n",
       "  .poloto4.poloto_fill{fill:aqua;}\n",
       "  .poloto5.poloto_fill{fill:lime;}\n",
       "  .poloto6.poloto_fill{fill:orange;}\n",
       "  .poloto7.poloto_fill{fill:chocolate;}\n",
       "</svg>"
      ]
     },
     "execution_count": 72,
     "metadata": {},
     "output_type": "execute_result"
    }
   ],
   "source": [
    "let s=r##\"\n",
    ".poloto{\n",
    "    stroke-linecap:round;\n",
    "    stroke-linejoin:round;\n",
    "    font-family:Roboto,sans-serif;\n",
    "    font-size:16px;\n",
    "  }\n",
    "  .poloto_background{fill:AliceBlue;}\n",
    "  .poloto_scatter{stroke-width:7}\n",
    "  .poloto_line{stroke-width:2}\n",
    "  .poloto_text{fill: black;}\n",
    "  .poloto_name{font-size:24px;dominant-baseline:auto;text-anchor:middle;}\n",
    "  .poloto_where{dominant-baseline:middle;text-anchor:start}\n",
    "  .poloto_text.poloto_legend{font-size:20px;dominant-baseline:middle;text-anchor:start;}\n",
    "  .poloto_text.poloto_ticks.poloto_y{dominant-baseline:middle;text-anchor:end}\n",
    "  .poloto_text.poloto_ticks.poloto_x{dominant-baseline:auto;text-anchor:middle}\n",
    "  .poloto_imgs.poloto_ticks{stroke: black;stroke-width:3;fill:none;stroke-dasharray:none}\n",
    "  .poloto_grid{stroke:gray;stroke-width:0.5}\n",
    "  \n",
    "  .poloto0.poloto_stroke{stroke:blue;}\n",
    "  .poloto1.poloto_stroke{stroke:red;}\n",
    "  .poloto2.poloto_stroke{stroke:green;}\n",
    "  .poloto3.poloto_stroke{stroke:gold;}\n",
    "  .poloto4.poloto_stroke{stroke:aqua;}\n",
    "  .poloto5.poloto_stroke{stroke:lime;}\n",
    "  .poloto6.poloto_stroke{stroke:orange;}\n",
    "  .poloto7.poloto_stroke{stroke:chocolate;}\n",
    "  .poloto0.poloto_fill{fill:blue;}\n",
    "  .poloto1.poloto_fill{fill:red;}\n",
    "  .poloto2.poloto_fill{fill:green;}\n",
    "  .poloto3.poloto_fill{fill:gold;}\n",
    "  .poloto4.poloto_fill{fill:aqua;}\n",
    "  .poloto5.poloto_fill{fill:lime;}\n",
    "  .poloto6.poloto_fill{fill:orange;}\n",
    "  .poloto7.poloto_fill{fill:chocolate;}\n",
    "\"##;\n",
    "\n",
    "\n",
    "let s=format!(\"<style>{}</svg>\",s);\n",
    "\n",
    "println!(\"EVCXR_BEGIN_CONTENT text/html\\n{}\\nEVCXR_END_CONTENT\", s);"
   ]
  },
  {
   "cell_type": "markdown",
   "metadata": {},
   "source": [
    "Now lets make a simple function that just displays one plot to avoid having to write alot of boilerplate."
   ]
  },
  {
   "cell_type": "code",
   "execution_count": 73,
   "id": "electric-painting",
   "metadata": {
    "vscode": {
     "languageId": "rust"
    }
   },
   "outputs": [],
   "source": [
    "// import hypermelon crate so that we can manually append elements.\n",
    ":dep hypermelon\n",
    "fn show(it:impl IntoIterator<Item=[f64;2]>){\n",
    "    \n",
    "    use hypermelon::prelude::*;\n",
    "    let j=poloto::build::plot(\"a\").line(it.into_iter());\n",
    "    let svg = poloto::header().with_dim([400.0,300.0]);\n",
    "    let style = poloto::render::Theme::light();\n",
    "    let res=poloto::frame()\n",
    "        .with_tick_lines([true, true])\n",
    "        .build()\n",
    "        .data(j)\n",
    "        .build_and_label((\"hello\",\"x\",\"y\"));\n",
    "    res.append_to(svg).render_evcxr();\n",
    "}"
   ]
  },
  {
   "cell_type": "markdown",
   "id": "732be9b6",
   "metadata": {},
   "source": [
    "Ok now lets plot some data."
   ]
  },
  {
   "cell_type": "code",
   "execution_count": 74,
   "id": "formal-brick",
   "metadata": {
    "vscode": {
     "languageId": "rust"
    }
   },
   "outputs": [
    {
     "data": {
      "text/html": [
       "<svg class=\"poloto\" width=\"400\" height=\"300\" viewBox=\"0 0 800 500\" xmlns=\"http://www.w3.org/2000/svg\"><circle r=\"1e5\" class=\"poloto_background\" fill=\"white\"/><g id=\"poloto_plot0\" class=\"poloto_plot poloto_imgs poloto_line poloto0 poloto_stroke\" fill=\"none\" stroke=\"black\"><path d=\" M 150.00 400.00 L 316.67 340.00 L 650.00 100.00\"/></g><g class=\"poloto_legend poloto_imgs poloto_line poloto0 poloto_stroke\"><line x1=\"680\" x2=\"730\" y1=\"81.25\" y2=\"81.25\"/></g><text class=\"poloto_legend poloto_text poloto_line poloto0\" x=\"675\" y=\"100\"> a</text><text class=\"poloto_text poloto_name poloto_title\" x=\"400.00\" y=\"37.50\">hello</text><text class=\"poloto_text poloto_name poloto_x\" x=\"400.00\" y=\"481.25\">x</text><text class=\"poloto_text poloto_name poloto_y\" x=\"37.50\" y=\"250.00\" transform=\"rotate(-90,37.50,250.00)\">y</text><text class=\"poloto_text poloto_ticks poloto_y\"><tspan x=\"135.00\" y=\"400.00\">0</tspan><tspan x=\"135.00\" y=\"340.00\">1</tspan><tspan x=\"135.00\" y=\"280.00\">2</tspan><tspan x=\"135.00\" y=\"220.00\">3</tspan><tspan x=\"135.00\" y=\"160.00\">4</tspan><tspan x=\"135.00\" y=\"100.00\">5</tspan></text><g class=\"poloto_imgs poloto_ticks poloto_y\" stroke=\"black\"><line x1=\"150.00\" x2=\"144.00\" y1=\"400.00\" y2=\"400.00\"/><line x1=\"150.00\" x2=\"144.00\" y1=\"340.00\" y2=\"340.00\"/><line x1=\"150.00\" x2=\"144.00\" y1=\"280.00\" y2=\"280.00\"/><line x1=\"150.00\" x2=\"144.00\" y1=\"220.00\" y2=\"220.00\"/><line x1=\"150.00\" x2=\"144.00\" y1=\"160.00\" y2=\"160.00\"/><line x1=\"150.00\" x2=\"144.00\" y1=\"100.00\" y2=\"100.00\"/></g><g class=\"poloto_grid poloto_y\" stroke=\"black\"><line x1=\"150.00\" x2=\"650.00\" y1=\"400.00\" y2=\"400.00\"/><line x1=\"150.00\" x2=\"650.00\" y1=\"340.00\" y2=\"340.00\"/><line x1=\"150.00\" x2=\"650.00\" y1=\"280.00\" y2=\"280.00\"/><line x1=\"150.00\" x2=\"650.00\" y1=\"220.00\" y2=\"220.00\"/><line x1=\"150.00\" x2=\"650.00\" y1=\"160.00\" y2=\"160.00\"/><line x1=\"150.00\" x2=\"650.00\" y1=\"100.00\" y2=\"100.00\"/></g><text class=\"poloto_text poloto_ticks poloto_x\"><tspan x=\"150.00\" y=\"430.00\">0.0</tspan><tspan x=\"233.33\" y=\"430.00\">0.5</tspan><tspan x=\"316.67\" y=\"430.00\">1.0</tspan><tspan x=\"400.00\" y=\"430.00\">1.5</tspan><tspan x=\"483.33\" y=\"430.00\">2.0</tspan><tspan x=\"566.67\" y=\"430.00\">2.5</tspan><tspan x=\"650.00\" y=\"430.00\">3.0</tspan></text><g class=\"poloto_imgs poloto_ticks poloto_x\" stroke=\"black\"><line x1=\"150.00\" x2=\"150.00\" y1=\"400.00\" y2=\"405.00\"/><line x1=\"233.33\" x2=\"233.33\" y1=\"400.00\" y2=\"405.00\"/><line x1=\"316.67\" x2=\"316.67\" y1=\"400.00\" y2=\"405.00\"/><line x1=\"400.00\" x2=\"400.00\" y1=\"400.00\" y2=\"405.00\"/><line x1=\"483.33\" x2=\"483.33\" y1=\"400.00\" y2=\"405.00\"/><line x1=\"566.67\" x2=\"566.67\" y1=\"400.00\" y2=\"405.00\"/><line x1=\"650.00\" x2=\"650.00\" y1=\"400.00\" y2=\"405.00\"/></g><g class=\"poloto_grid poloto_x\" stroke=\"black\"><line x1=\"150.00\" x2=\"150.00\" y1=\"400.00\" y2=\"100.00\"/><line x1=\"233.33\" x2=\"233.33\" y1=\"400.00\" y2=\"100.00\"/><line x1=\"316.67\" x2=\"316.67\" y1=\"400.00\" y2=\"100.00\"/><line x1=\"400.00\" x2=\"400.00\" y1=\"400.00\" y2=\"100.00\"/><line x1=\"483.33\" x2=\"483.33\" y1=\"400.00\" y2=\"100.00\"/><line x1=\"566.67\" x2=\"566.67\" y1=\"400.00\" y2=\"100.00\"/><line x1=\"650.00\" x2=\"650.00\" y1=\"400.00\" y2=\"100.00\"/></g><path class=\"poloto_imgs poloto_ticks poloto_x\" stroke=\"black\" style=\"stroke-dasharray:8.333333333333332;stroke-dashoffset:-0;\" d=\" M 150.00 400.00 L 650.00 400.00\"/><path class=\"poloto_imgs poloto_ticks poloto_y\" stroke=\"black\" style=\"stroke-dasharray:6;stroke-dashoffset:-0;\" d=\" M 150.00 400.00 L 150.00 100.00\"/></svg>"
      ]
     },
     "execution_count": 74,
     "metadata": {},
     "output_type": "execute_result"
    }
   ],
   "source": [
    "let data=vec!([0.0,0.0],[1.0,1.0],[3.0,5.0]);\n",
    "show(data);"
   ]
  },
  {
   "cell_type": "markdown",
   "id": "dc51bea8",
   "metadata": {},
   "source": [
    "Ok cool. Now lets change the data."
   ]
  },
  {
   "cell_type": "code",
   "execution_count": 75,
   "id": "1a0df4d4",
   "metadata": {
    "vscode": {
     "languageId": "rust"
    }
   },
   "outputs": [
    {
     "data": {
      "text/html": [
       "<svg class=\"poloto\" width=\"400\" height=\"300\" viewBox=\"0 0 800 500\" xmlns=\"http://www.w3.org/2000/svg\"><circle r=\"1e5\" class=\"poloto_background\" fill=\"white\"/><g id=\"poloto_plot0\" class=\"poloto_plot poloto_imgs poloto_line poloto0 poloto_stroke\" fill=\"none\" stroke=\"black\"><path d=\" M 150.00 100.00 L 400.00 340.00 L 650.00 400.00\"/></g><g class=\"poloto_legend poloto_imgs poloto_line poloto0 poloto_stroke\"><line x1=\"680\" x2=\"730\" y1=\"81.25\" y2=\"81.25\"/></g><text class=\"poloto_legend poloto_text poloto_line poloto0\" x=\"675\" y=\"100\"> a</text><text class=\"poloto_text poloto_name poloto_title\" x=\"400.00\" y=\"37.50\">hello</text><text class=\"poloto_text poloto_name poloto_x\" x=\"400.00\" y=\"481.25\">x</text><text class=\"poloto_text poloto_name poloto_y\" x=\"37.50\" y=\"250.00\" transform=\"rotate(-90,37.50,250.00)\">y</text><text class=\"poloto_text poloto_ticks poloto_y\"><tspan x=\"135.00\" y=\"400.00\">0</tspan><tspan x=\"135.00\" y=\"340.00\">1</tspan><tspan x=\"135.00\" y=\"280.00\">2</tspan><tspan x=\"135.00\" y=\"220.00\">3</tspan><tspan x=\"135.00\" y=\"160.00\">4</tspan><tspan x=\"135.00\" y=\"100.00\">5</tspan></text><g class=\"poloto_imgs poloto_ticks poloto_y\" stroke=\"black\"><line x1=\"150.00\" x2=\"144.00\" y1=\"400.00\" y2=\"400.00\"/><line x1=\"150.00\" x2=\"144.00\" y1=\"340.00\" y2=\"340.00\"/><line x1=\"150.00\" x2=\"144.00\" y1=\"280.00\" y2=\"280.00\"/><line x1=\"150.00\" x2=\"144.00\" y1=\"220.00\" y2=\"220.00\"/><line x1=\"150.00\" x2=\"144.00\" y1=\"160.00\" y2=\"160.00\"/><line x1=\"150.00\" x2=\"144.00\" y1=\"100.00\" y2=\"100.00\"/></g><g class=\"poloto_grid poloto_y\" stroke=\"black\"><line x1=\"150.00\" x2=\"650.00\" y1=\"400.00\" y2=\"400.00\"/><line x1=\"150.00\" x2=\"650.00\" y1=\"340.00\" y2=\"340.00\"/><line x1=\"150.00\" x2=\"650.00\" y1=\"280.00\" y2=\"280.00\"/><line x1=\"150.00\" x2=\"650.00\" y1=\"220.00\" y2=\"220.00\"/><line x1=\"150.00\" x2=\"650.00\" y1=\"160.00\" y2=\"160.00\"/><line x1=\"150.00\" x2=\"650.00\" y1=\"100.00\" y2=\"100.00\"/></g><text class=\"poloto_text poloto_ticks poloto_x\"><tspan x=\"150.00\" y=\"430.00\">1.0</tspan><tspan x=\"275.00\" y=\"430.00\">1.5</tspan><tspan x=\"400.00\" y=\"430.00\">2.0</tspan><tspan x=\"525.00\" y=\"430.00\">2.5</tspan><tspan x=\"650.00\" y=\"430.00\">3.0</tspan></text><g class=\"poloto_imgs poloto_ticks poloto_x\" stroke=\"black\"><line x1=\"150.00\" x2=\"150.00\" y1=\"400.00\" y2=\"405.00\"/><line x1=\"275.00\" x2=\"275.00\" y1=\"400.00\" y2=\"405.00\"/><line x1=\"400.00\" x2=\"400.00\" y1=\"400.00\" y2=\"405.00\"/><line x1=\"525.00\" x2=\"525.00\" y1=\"400.00\" y2=\"405.00\"/><line x1=\"650.00\" x2=\"650.00\" y1=\"400.00\" y2=\"405.00\"/></g><g class=\"poloto_grid poloto_x\" stroke=\"black\"><line x1=\"150.00\" x2=\"150.00\" y1=\"400.00\" y2=\"100.00\"/><line x1=\"275.00\" x2=\"275.00\" y1=\"400.00\" y2=\"100.00\"/><line x1=\"400.00\" x2=\"400.00\" y1=\"400.00\" y2=\"100.00\"/><line x1=\"525.00\" x2=\"525.00\" y1=\"400.00\" y2=\"100.00\"/><line x1=\"650.00\" x2=\"650.00\" y1=\"400.00\" y2=\"100.00\"/></g><path class=\"poloto_imgs poloto_ticks poloto_x\" stroke=\"black\" style=\"stroke-dasharray:12.5;stroke-dashoffset:-0;\" d=\" M 150.00 400.00 L 650.00 400.00\"/><path class=\"poloto_imgs poloto_ticks poloto_y\" stroke=\"black\" style=\"stroke-dasharray:6;stroke-dashoffset:-0;\" d=\" M 150.00 400.00 L 150.00 100.00\"/></svg>"
      ]
     },
     "execution_count": 75,
     "metadata": {},
     "output_type": "execute_result"
    }
   ],
   "source": [
    "let data=vec!([1.0,5.0],[2.0,1.0],[3.0,0.0]);\n",
    "show(data);"
   ]
  },
  {
   "cell_type": "markdown",
   "id": "0a1c4e67",
   "metadata": {},
   "source": [
    "Oh no now the data is going down!"
   ]
  },
  {
   "cell_type": "markdown",
   "id": "13e59f8c",
   "metadata": {},
   "source": [
    "Here is an gaussian example"
   ]
  },
  {
   "cell_type": "code",
   "execution_count": 76,
   "id": "4e1cf941",
   "metadata": {
    "vscode": {
     "languageId": "rust"
    }
   },
   "outputs": [
    {
     "data": {
      "text/html": [
       "<svg class=\"poloto\" width=\"800\" height=\"500\" viewBox=\"0 0 800 500\" xmlns=\"http://www.w3.org/2000/svg\"><circle r=\"1e5\" class=\"poloto_background\" fill=\"white\"/><g id=\"poloto_plot0\" class=\"poloto_plot poloto_imgs poloto_line poloto0 poloto_stroke\" fill=\"none\" stroke=\"black\"><path d=\" M 150.00 400.00 L 152.51 400.00 L 155.03 400.00 L 157.54 400.00 L 160.05 400.00 L 162.56 400.00 L 165.08 400.00 L 167.59 400.00 L 170.10 400.00 L 172.61 399.99 L 175.13 399.99 L 177.64 399.99 L 180.15 399.99 L 182.66 399.99 L 185.18 399.98 L 187.69 399.98 L 190.20 399.98 L 192.71 399.97 L 195.23 399.96 L 197.74 399.95 L 200.25 399.94 L 202.76 399.93 L 205.28 399.92 L 207.79 399.90 L 210.30 399.88 L 212.81 399.85 L 215.33 399.83 L 217.84 399.79 L 220.35 399.75 L 222.86 399.70 L 225.38 399.64 L 227.89 399.57 L 230.40 399.49 L 232.91 399.40 L 235.43 399.29 L 237.94 399.16 L 240.45 399.02 L 242.96 398.85 L 245.48 398.65 L 247.99 398.43 L 250.50 398.17 L 253.02 397.88 L 255.53 397.55 L 258.04 397.17 L 260.55 396.74 L 263.07 396.25 L 265.58 395.71 L 268.09 395.09 L 270.60 394.41 L 273.12 393.64 L 275.63 392.78 L 278.14 391.83 L 280.65 390.78 L 283.17 389.61 L 285.68 388.33 L 288.19 386.93 L 290.70 385.39 L 293.22 383.71 L 295.73 381.88 L 298.24 379.90 L 300.75 377.76 L 303.27 375.45 L 305.78 372.97 L 308.29 370.32 L 310.80 367.48 L 313.32 364.46 L 315.83 361.26 L 318.34 357.88 L 320.85 354.31 L 323.37 350.57 L 325.88 346.65 L 328.39 342.57 L 330.90 338.33 L 333.42 333.94 L 335.93 329.42 L 338.44 324.77 L 340.95 320.02 L 343.47 315.18 L 345.98 310.27 L 348.49 305.32 L 351.01 300.34 L 353.52 295.36 L 356.03 290.40 L 358.54 285.50 L 361.06 280.68 L 363.57 275.97 L 366.08 271.39 L 368.59 266.97 L 371.11 262.75 L 373.62 258.75 L 376.13 254.99 L 378.64 251.51 L 381.16 248.32 L 383.67 245.45 L 386.18 242.91 L 388.69 240.74 L 391.21 238.94 L 393.72 237.52 L 396.23 236.50 L 398.74 235.89 L 401.26 235.68 L 403.77 235.89 L 406.28 236.50 L 408.79 237.52 L 411.31 238.94 L 413.82 240.74 L 416.33 242.91 L 418.84 245.45 L 421.36 248.32 L 423.87 251.51 L 426.38 254.99 L 428.89 258.75 L 431.41 262.75 L 433.92 266.97 L 436.43 271.39 L 438.94 275.97 L 441.46 280.68 L 443.97 285.50 L 446.48 290.40 L 448.99 295.36 L 451.51 300.34 L 454.02 305.32 L 456.53 310.27 L 459.05 315.18 L 461.56 320.02 L 464.07 324.77 L 466.58 329.42 L 469.10 333.94 L 471.61 338.33 L 474.12 342.57 L 476.63 346.65 L 479.15 350.57 L 481.66 354.31 L 484.17 357.88 L 486.68 361.26 L 489.20 364.46 L 491.71 367.48 L 494.22 370.32 L 496.73 372.97 L 499.25 375.45 L 501.76 377.76 L 504.27 379.90 L 506.78 381.88 L 509.30 383.71 L 511.81 385.39 L 514.32 386.93 L 516.83 388.33 L 519.35 389.61 L 521.86 390.78 L 524.37 391.83 L 526.88 392.78 L 529.40 393.64 L 531.91 394.41 L 534.42 395.09 L 536.93 395.71 L 539.45 396.25 L 541.96 396.74 L 544.47 397.17 L 546.98 397.55 L 549.50 397.88 L 552.01 398.17 L 554.52 398.43 L 557.04 398.65 L 559.55 398.85 L 562.06 399.02 L 564.57 399.16 L 567.09 399.29 L 569.60 399.40 L 572.11 399.49 L 574.62 399.57 L 577.14 399.64 L 579.65 399.70 L 582.16 399.75 L 584.67 399.79 L 587.19 399.83 L 589.70 399.85 L 592.21 399.88 L 594.72 399.90 L 597.24 399.92 L 599.75 399.93 L 602.26 399.94 L 604.77 399.95 L 607.29 399.96 L 609.80 399.97 L 612.31 399.98 L 614.82 399.98 L 617.34 399.98 L 619.85 399.99 L 622.36 399.99 L 624.87 399.99 L 627.39 399.99 L 629.90 399.99 L 632.41 400.00 L 634.92 400.00 L 637.44 400.00 L 639.95 400.00 L 642.46 400.00 L 644.97 400.00 L 647.49 400.00 L 650.00 400.00\"/></g><g id=\"poloto_plot1\" class=\"poloto_plot poloto_imgs poloto_line poloto1 poloto_stroke\" fill=\"none\" stroke=\"black\"><path d=\" M 150.00 400.00 L 152.51 400.00 L 155.03 400.00 L 157.54 400.00 L 160.05 400.00 L 162.56 400.00 L 165.08 400.00 L 167.59 400.00 L 170.10 400.00 L 172.61 400.00 L 175.13 400.00 L 177.64 400.00 L 180.15 400.00 L 182.66 400.00 L 185.18 400.00 L 187.69 400.00 L 190.20 400.00 L 192.71 400.00 L 195.23 400.00 L 197.74 400.00 L 200.25 400.00 L 202.76 400.00 L 205.28 400.00 L 207.79 400.00 L 210.30 400.00 L 212.81 400.00 L 215.33 400.00 L 217.84 400.00 L 220.35 400.00 L 222.86 400.00 L 225.38 400.00 L 227.89 400.00 L 230.40 400.00 L 232.91 400.00 L 235.43 400.00 L 237.94 400.00 L 240.45 400.00 L 242.96 400.00 L 245.48 400.00 L 247.99 400.00 L 250.50 400.00 L 253.02 400.00 L 255.53 400.00 L 258.04 400.00 L 260.55 400.00 L 263.07 400.00 L 265.58 400.00 L 268.09 400.00 L 270.60 400.00 L 273.12 400.00 L 275.63 400.00 L 278.14 400.00 L 280.65 400.00 L 283.17 400.00 L 285.68 399.99 L 288.19 399.99 L 290.70 399.99 L 293.22 399.98 L 295.73 399.97 L 298.24 399.95 L 300.75 399.92 L 303.27 399.88 L 305.78 399.83 L 308.29 399.75 L 310.80 399.64 L 313.32 399.49 L 315.83 399.28 L 318.34 399.00 L 320.85 398.61 L 323.37 398.10 L 325.88 397.42 L 328.39 396.53 L 330.90 395.39 L 333.42 393.93 L 335.93 392.09 L 338.44 389.79 L 340.95 386.96 L 343.47 383.50 L 345.98 379.34 L 348.49 374.38 L 351.01 368.55 L 353.52 361.78 L 356.03 354.01 L 358.54 345.22 L 361.06 335.39 L 363.57 324.56 L 366.08 312.79 L 368.59 300.18 L 371.11 286.89 L 373.62 273.10 L 376.13 259.06 L 378.64 245.01 L 381.16 231.26 L 383.67 218.12 L 386.18 205.90 L 388.69 194.93 L 391.21 185.49 L 393.72 177.85 L 396.23 172.22 L 398.74 168.78 L 401.26 167.62 L 403.77 168.78 L 406.28 172.22 L 408.79 177.85 L 411.31 185.49 L 413.82 194.93 L 416.33 205.90 L 418.84 218.12 L 421.36 231.26 L 423.87 245.01 L 426.38 259.06 L 428.89 273.10 L 431.41 286.89 L 433.92 300.18 L 436.43 312.79 L 438.94 324.56 L 441.46 335.39 L 443.97 345.22 L 446.48 354.01 L 448.99 361.78 L 451.51 368.55 L 454.02 374.38 L 456.53 379.34 L 459.05 383.50 L 461.56 386.96 L 464.07 389.79 L 466.58 392.09 L 469.10 393.93 L 471.61 395.39 L 474.12 396.53 L 476.63 397.42 L 479.15 398.10 L 481.66 398.61 L 484.17 399.00 L 486.68 399.28 L 489.20 399.49 L 491.71 399.64 L 494.22 399.75 L 496.73 399.83 L 499.25 399.88 L 501.76 399.92 L 504.27 399.95 L 506.78 399.97 L 509.30 399.98 L 511.81 399.99 L 514.32 399.99 L 516.83 399.99 L 519.35 400.00 L 521.86 400.00 L 524.37 400.00 L 526.88 400.00 L 529.40 400.00 L 531.91 400.00 L 534.42 400.00 L 536.93 400.00 L 539.45 400.00 L 541.96 400.00 L 544.47 400.00 L 546.98 400.00 L 549.50 400.00 L 552.01 400.00 L 554.52 400.00 L 557.04 400.00 L 559.55 400.00 L 562.06 400.00 L 564.57 400.00 L 567.09 400.00 L 569.60 400.00 L 572.11 400.00 L 574.62 400.00 L 577.14 400.00 L 579.65 400.00 L 582.16 400.00 L 584.67 400.00 L 587.19 400.00 L 589.70 400.00 L 592.21 400.00 L 594.72 400.00 L 597.24 400.00 L 599.75 400.00 L 602.26 400.00 L 604.77 400.00 L 607.29 400.00 L 609.80 400.00 L 612.31 400.00 L 614.82 400.00 L 617.34 400.00 L 619.85 400.00 L 622.36 400.00 L 624.87 400.00 L 627.39 400.00 L 629.90 400.00 L 632.41 400.00 L 634.92 400.00 L 637.44 400.00 L 639.95 400.00 L 642.46 400.00 L 644.97 400.00 L 647.49 400.00 L 650.00 400.00\"/></g><g id=\"poloto_plot2\" class=\"poloto_plot poloto_imgs poloto_line poloto2 poloto_stroke\" fill=\"none\" stroke=\"black\"><path d=\" M 150.00 400.00 L 152.51 400.00 L 155.03 400.00 L 157.54 400.00 L 160.05 400.00 L 162.56 400.00 L 165.08 400.00 L 167.59 400.00 L 170.10 400.00 L 172.61 400.00 L 175.13 400.00 L 177.64 400.00 L 180.15 400.00 L 182.66 400.00 L 185.18 400.00 L 187.69 400.00 L 190.20 400.00 L 192.71 400.00 L 195.23 400.00 L 197.74 400.00 L 200.25 400.00 L 202.76 400.00 L 205.28 400.00 L 207.79 400.00 L 210.30 400.00 L 212.81 400.00 L 215.33 400.00 L 217.84 400.00 L 220.35 400.00 L 222.86 400.00 L 225.38 400.00 L 227.89 400.00 L 230.40 400.00 L 232.91 400.00 L 235.43 400.00 L 237.94 400.00 L 240.45 400.00 L 242.96 400.00 L 245.48 400.00 L 247.99 400.00 L 250.50 400.00 L 253.02 400.00 L 255.53 400.00 L 258.04 400.00 L 260.55 400.00 L 263.07 400.00 L 265.58 400.00 L 268.09 400.00 L 270.60 400.00 L 273.12 400.00 L 275.63 400.00 L 278.14 400.00 L 280.65 400.00 L 283.17 400.00 L 285.68 400.00 L 288.19 400.00 L 290.70 400.00 L 293.22 400.00 L 295.73 400.00 L 298.24 400.00 L 300.75 400.00 L 303.27 400.00 L 305.78 400.00 L 308.29 400.00 L 310.80 400.00 L 313.32 400.00 L 315.83 400.00 L 318.34 400.00 L 320.85 400.00 L 323.37 400.00 L 325.88 400.00 L 328.39 400.00 L 330.90 399.99 L 333.42 399.99 L 335.93 399.97 L 338.44 399.95 L 340.95 399.90 L 343.47 399.81 L 345.98 399.64 L 348.49 399.34 L 351.01 398.84 L 353.52 398.01 L 356.03 396.67 L 358.54 394.58 L 361.06 391.43 L 363.57 386.82 L 366.08 380.28 L 368.59 371.31 L 371.11 359.40 L 373.62 344.12 L 376.13 325.19 L 378.64 302.60 L 381.16 276.67 L 383.67 248.10 L 386.18 218.04 L 388.69 188.01 L 391.21 159.78 L 393.72 135.25 L 396.23 116.21 L 398.74 104.14 L 401.26 100.00 L 403.77 104.14 L 406.28 116.21 L 408.79 135.25 L 411.31 159.78 L 413.82 188.01 L 416.33 218.04 L 418.84 248.10 L 421.36 276.67 L 423.87 302.60 L 426.38 325.19 L 428.89 344.12 L 431.41 359.40 L 433.92 371.31 L 436.43 380.28 L 438.94 386.82 L 441.46 391.43 L 443.97 394.58 L 446.48 396.67 L 448.99 398.01 L 451.51 398.84 L 454.02 399.34 L 456.53 399.64 L 459.05 399.81 L 461.56 399.90 L 464.07 399.95 L 466.58 399.97 L 469.10 399.99 L 471.61 399.99 L 474.12 400.00 L 476.63 400.00 L 479.15 400.00 L 481.66 400.00 L 484.17 400.00 L 486.68 400.00 L 489.20 400.00 L 491.71 400.00 L 494.22 400.00 L 496.73 400.00 L 499.25 400.00 L 501.76 400.00 L 504.27 400.00 L 506.78 400.00 L 509.30 400.00 L 511.81 400.00 L 514.32 400.00 L 516.83 400.00 L 519.35 400.00 L 521.86 400.00 L 524.37 400.00 L 526.88 400.00 L 529.40 400.00 L 531.91 400.00 L 534.42 400.00 L 536.93 400.00 L 539.45 400.00 L 541.96 400.00 L 544.47 400.00 L 546.98 400.00 L 549.50 400.00 L 552.01 400.00 L 554.52 400.00 L 557.04 400.00 L 559.55 400.00 L 562.06 400.00 L 564.57 400.00 L 567.09 400.00 L 569.60 400.00 L 572.11 400.00 L 574.62 400.00 L 577.14 400.00 L 579.65 400.00 L 582.16 400.00 L 584.67 400.00 L 587.19 400.00 L 589.70 400.00 L 592.21 400.00 L 594.72 400.00 L 597.24 400.00 L 599.75 400.00 L 602.26 400.00 L 604.77 400.00 L 607.29 400.00 L 609.80 400.00 L 612.31 400.00 L 614.82 400.00 L 617.34 400.00 L 619.85 400.00 L 622.36 400.00 L 624.87 400.00 L 627.39 400.00 L 629.90 400.00 L 632.41 400.00 L 634.92 400.00 L 637.44 400.00 L 639.95 400.00 L 642.46 400.00 L 644.97 400.00 L 647.49 400.00 L 650.00 400.00\"/></g><g class=\"poloto_legend poloto_imgs poloto_line poloto0 poloto_stroke\"><line x1=\"680\" x2=\"730\" y1=\"81.25\" y2=\"81.25\"/></g><g class=\"poloto_legend poloto_imgs poloto_line poloto1 poloto_stroke\"><line x1=\"680\" x2=\"730\" y1=\"131.25\" y2=\"131.25\"/></g><g class=\"poloto_legend poloto_imgs poloto_line poloto2 poloto_stroke\"><line x1=\"680\" x2=\"730\" y1=\"181.25\" y2=\"181.25\"/></g><text class=\"poloto_legend poloto_text poloto_line poloto0\" x=\"675\" y=\"100\"> σ=1.0</text><text class=\"poloto_legend poloto_text poloto_line poloto1\" x=\"675\" y=\"150\"> σ=0.5</text><text class=\"poloto_legend poloto_text poloto_line poloto2\" x=\"675\" y=\"200\"> σ=0.3</text><text class=\"poloto_text poloto_name poloto_title\" x=\"400.00\" y=\"37.50\">gaussian</text><text class=\"poloto_text poloto_name poloto_x\" x=\"400.00\" y=\"481.25\">x</text><text class=\"poloto_text poloto_name poloto_y\" x=\"37.50\" y=\"250.00\" transform=\"rotate(-90,37.50,250.00)\">y</text><text class=\"poloto_text poloto_ticks poloto_y\"><tspan x=\"135.00\" y=\"400.00\">0.0</tspan><tspan x=\"135.00\" y=\"317.62\">0.2</tspan><tspan x=\"135.00\" y=\"235.25\">0.4</tspan><tspan x=\"135.00\" y=\"152.87\">0.6</tspan></text><g class=\"poloto_imgs poloto_ticks poloto_y\" stroke=\"black\"><line x1=\"150.00\" x2=\"144.00\" y1=\"400.00\" y2=\"400.00\"/><line x1=\"150.00\" x2=\"144.00\" y1=\"317.62\" y2=\"317.62\"/><line x1=\"150.00\" x2=\"144.00\" y1=\"235.25\" y2=\"235.25\"/><line x1=\"150.00\" x2=\"144.00\" y1=\"152.87\" y2=\"152.87\"/></g><text class=\"poloto_text poloto_ticks poloto_x\"><tspan x=\"200.25\" y=\"430.00\">-4</tspan><tspan x=\"300.75\" y=\"430.00\">-2</tspan><tspan x=\"401.26\" y=\"430.00\">0</tspan><tspan x=\"501.76\" y=\"430.00\">2</tspan><tspan x=\"602.26\" y=\"430.00\">4</tspan></text><g class=\"poloto_imgs poloto_ticks poloto_x\" stroke=\"black\"><line x1=\"200.25\" x2=\"200.25\" y1=\"400.00\" y2=\"405.00\"/><line x1=\"300.75\" x2=\"300.75\" y1=\"400.00\" y2=\"405.00\"/><line x1=\"401.26\" x2=\"401.26\" y1=\"400.00\" y2=\"405.00\"/><line x1=\"501.76\" x2=\"501.76\" y1=\"400.00\" y2=\"405.00\"/><line x1=\"602.26\" x2=\"602.26\" y1=\"400.00\" y2=\"405.00\"/></g><path class=\"poloto_imgs poloto_ticks poloto_x\" stroke=\"black\" style=\"stroke-dasharray:12.56281407035176;stroke-dashoffset:-50.25125628140705;\" d=\" M 150.00 400.00 L 650.00 400.00\"/><path class=\"poloto_imgs poloto_ticks poloto_y\" stroke=\"black\" style=\"stroke-dasharray:10.2970263697174;stroke-dashoffset:-0;\" d=\" M 150.00 400.00 L 150.00 100.00\"/></svg>"
      ],
      "text/plain": [
       "()"
      ]
     },
     "execution_count": 76,
     "metadata": {},
     "output_type": "execute_result"
    }
   ],
   "source": [
    "{\n",
    "    use poloto::build;\n",
    "\n",
    "    // See https://en.wikipedia.org/wiki/Gaussian_function\n",
    "    let gau = |sigma: f64, mu: f64| {\n",
    "        use std::f64::consts::TAU;\n",
    "        let s = sigma.powi(2);\n",
    "        let k = (sigma * TAU).sqrt().recip();\n",
    "        move |x: f64| [x, (-0.5 * (x - mu).powi(2) / s).exp() * k]\n",
    "    };\n",
    "\n",
    "    let xs = poloto::util::range_iter([-5.0, 5.0], 200);\n",
    "\n",
    "    let plots = poloto::plots!(\n",
    "        build::plot(\"σ=1.0\").line(xs.clone().map(gau(1.0, 0.0))),\n",
    "        build::plot(\"σ=0.5\").line(xs.clone().map(gau(0.5, 0.0))),\n",
    "        build::plot(\"σ=0.3\").line(xs.clone().map(gau(0.3, 0.0)))\n",
    "    );\n",
    "\n",
    "    poloto::frame_build()\n",
    "        .data(poloto::plots!(build::origin(), plots))\n",
    "        .build_and_label((\"gaussian\", \"x\", \"y\"))\n",
    "        .append_to(poloto::header())\n",
    "        .render_evcxr();\n",
    "}"
   ]
  },
  {
   "cell_type": "markdown",
   "id": "4866be7f",
   "metadata": {},
   "source": [
    "Here is a collatz example"
   ]
  },
  {
   "cell_type": "code",
   "execution_count": 77,
   "id": "724206fc",
   "metadata": {
    "vscode": {
     "languageId": "rust"
    }
   },
   "outputs": [
    {
     "data": {
      "text/html": [
       "<svg class=\"poloto\" width=\"800\" height=\"500\" viewBox=\"0 0 1200 750\" xmlns=\"http://www.w3.org/2000/svg\"><circle r=\"1e5\" class=\"poloto_background\" fill=\"white\"/><g id=\"poloto_plot0\" class=\"poloto_plot poloto_imgs poloto_line poloto0 poloto_stroke\" fill=\"none\" stroke=\"black\"><path d=\" M 150.00 637.32 L 156.38 643.66 L 162.77 646.83 L 169.15 640.46 L 175.53 645.23 L 181.91 647.62 L 188.30 648.81 L 194.68 646.40 L 201.06 648.20 L 207.45 644.57 L 213.83 647.29 L 220.21 641.83 L 226.60 645.92 L 232.98 637.73 L 239.36 643.86 L 245.74 646.93 L 252.13 640.77 L 258.51 645.38 L 264.89 647.69 L 271.28 643.05 L 277.66 646.53 L 284.04 639.55 L 290.43 644.78 L 296.81 647.39 L 303.19 642.14 L 309.57 646.07 L 315.96 638.18 L 322.34 644.09 L 328.72 632.25 L 335.11 641.12 L 341.49 645.56 L 347.87 636.66 L 354.26 643.33 L 360.64 629.97 L 367.02 639.98 L 373.40 619.92 L 379.79 634.96 L 386.17 604.86 L 392.55 627.43 L 398.94 638.71 L 405.32 616.12 L 411.70 633.06 L 418.09 641.53 L 424.47 645.76 L 430.85 637.27 L 437.23 643.63 L 443.62 630.88 L 450.00 640.44 L 456.38 621.29 L 462.77 635.65 L 469.15 642.82 L 475.53 628.44 L 481.91 639.22 L 488.30 617.64 L 494.68 633.82 L 501.06 641.91 L 507.45 625.71 L 513.83 637.85 L 520.21 613.53 L 526.60 631.77 L 532.98 595.27 L 539.36 622.64 L 545.74 567.89 L 552.13 608.94 L 558.51 526.80 L 564.89 588.40 L 571.28 465.18 L 577.66 557.59 L 584.04 603.79 L 590.43 626.90 L 596.81 580.67 L 603.19 615.33 L 609.57 545.97 L 615.96 597.99 L 622.34 493.94 L 628.72 571.97 L 635.11 415.88 L 641.49 532.94 L 647.87 591.47 L 654.26 620.73 L 660.64 635.37 L 667.02 606.08 L 673.40 628.04 L 679.79 639.02 L 686.17 617.03 L 692.55 633.52 L 698.94 641.76 L 705.32 625.25 L 711.70 637.62 L 718.09 643.81 L 724.47 646.91 L 730.85 648.45 L 737.23 645.33 L 743.62 647.67 L 750.00 648.83 L 756.38 649.42 L 762.77 648.22 L 769.15 649.11 L 775.53 647.31 L 781.91 648.66 L 788.30 645.94 L 794.68 647.97 L 801.06 648.99 L 807.45 649.49 L 813.83 649.75 L 820.21 649.87 L 826.60 649.59 L 832.98 649.80 L 839.36 649.90 L 845.74 649.95 L 852.13 649.97\"/></g><g id=\"poloto_plot1\" class=\"poloto_plot poloto_imgs poloto_line poloto1 poloto_stroke\" fill=\"none\" stroke=\"black\"><path d=\" M 150.00 573.82 L 156.38 611.91 L 162.77 630.95 L 169.15 592.84 L 175.53 621.42 L 181.91 564.23 L 188.30 607.12 L 194.68 521.33 L 201.06 585.66 L 207.45 456.96 L 213.83 553.48 L 220.21 601.74 L 226.60 505.20 L 232.98 577.60 L 239.36 432.77 L 245.74 541.38 L 252.13 324.13 L 258.51 487.06 L 264.89 161.17 L 271.28 405.58 L 277.66 527.79 L 284.04 283.35 L 290.43 466.68 L 296.81 100.00 L 303.19 375.00 L 309.57 512.50 L 315.96 581.25 L 322.34 443.72 L 328.72 546.86 L 335.11 340.56 L 341.49 495.28 L 347.87 185.82 L 354.26 417.91 L 360.64 533.95 L 367.02 591.98 L 373.40 620.99 L 379.79 635.49 L 386.17 642.75 L 392.55 646.37 L 398.94 639.10 L 405.32 644.55 L 411.70 633.62 L 418.09 641.81 L 424.47 625.40 L 430.85 637.70 L 437.23 613.08 L 443.62 631.54 L 450.00 640.77 L 456.38 645.38 L 462.77 647.69 L 469.15 643.05 L 475.53 646.53 L 481.91 639.55 L 488.30 644.78 L 494.68 647.39 L 501.06 642.14 L 507.45 646.07 L 513.83 638.18 L 520.21 644.09 L 526.60 632.25 L 532.98 641.12 L 539.36 645.56 L 545.74 636.66 L 552.13 643.33 L 558.51 629.97 L 564.89 639.98 L 571.28 619.92 L 577.66 634.96 L 584.04 604.86 L 590.43 627.43 L 596.81 638.71 L 603.19 616.12 L 609.57 633.06 L 615.96 641.53 L 622.34 645.76 L 628.72 637.27 L 635.11 643.63 L 641.49 630.88 L 647.87 640.44 L 654.26 621.29 L 660.64 635.65 L 667.02 642.82 L 673.40 628.44 L 679.79 639.22 L 686.17 617.64 L 692.55 633.82 L 698.94 641.91 L 705.32 625.71 L 711.70 637.85 L 718.09 613.53 L 724.47 631.77 L 730.85 595.27 L 737.23 622.64 L 743.62 567.89 L 750.00 608.94 L 756.38 526.80 L 762.77 588.40 L 769.15 465.18 L 775.53 557.59 L 781.91 603.79 L 788.30 626.90 L 794.68 580.67 L 801.06 615.33 L 807.45 545.97 L 813.83 597.99 L 820.21 493.94 L 826.60 571.97 L 832.98 415.88 L 839.36 532.94 L 845.74 591.47 L 852.13 620.73 L 858.51 635.37 L 864.89 606.08 L 871.28 628.04 L 877.66 639.02 L 884.04 617.03 L 890.43 633.52 L 896.81 641.76 L 903.19 625.25 L 909.57 637.62 L 915.96 643.81 L 922.34 646.91 L 928.72 648.45 L 935.11 645.33 L 941.49 647.67 L 947.87 648.83 L 954.26 649.42 L 960.64 648.22 L 967.02 649.11 L 973.40 647.31 L 979.79 648.66 L 986.17 645.94 L 992.55 647.97 L 998.94 648.99 L 1005.32 649.49 L 1011.70 649.75 L 1018.09 649.87 L 1024.47 649.59 L 1030.85 649.80 L 1037.23 649.90 L 1043.62 649.95 L 1050.00 649.97\"/></g><g id=\"poloto_plot2\" class=\"poloto_plot poloto_imgs poloto_line poloto2 poloto_stroke\" fill=\"none\" stroke=\"black\"><path d=\" M 150.00 637.29 L 156.38 611.86 L 162.77 630.93 L 169.15 640.46 L 175.53 645.23 L 181.91 647.62 L 188.30 648.81 L 194.68 646.40 L 201.06 648.20 L 207.45 644.57 L 213.83 647.29 L 220.21 641.83 L 226.60 645.92 L 232.98 637.73 L 239.36 643.86 L 245.74 646.93 L 252.13 640.77 L 258.51 645.38 L 264.89 647.69 L 271.28 643.05 L 277.66 646.53 L 284.04 639.55 L 290.43 644.78 L 296.81 647.39 L 303.19 642.14 L 309.57 646.07 L 315.96 638.18 L 322.34 644.09 L 328.72 632.25 L 335.11 641.12 L 341.49 645.56 L 347.87 636.66 L 354.26 643.33 L 360.64 629.97 L 367.02 639.98 L 373.40 619.92 L 379.79 634.96 L 386.17 604.86 L 392.55 627.43 L 398.94 638.71 L 405.32 616.12 L 411.70 633.06 L 418.09 641.53 L 424.47 645.76 L 430.85 637.27 L 437.23 643.63 L 443.62 630.88 L 450.00 640.44 L 456.38 621.29 L 462.77 635.65 L 469.15 642.82 L 475.53 628.44 L 481.91 639.22 L 488.30 617.64 L 494.68 633.82 L 501.06 641.91 L 507.45 625.71 L 513.83 637.85 L 520.21 613.53 L 526.60 631.77 L 532.98 595.27 L 539.36 622.64 L 545.74 567.89 L 552.13 608.94 L 558.51 526.80 L 564.89 588.40 L 571.28 465.18 L 577.66 557.59 L 584.04 603.79 L 590.43 626.90 L 596.81 580.67 L 603.19 615.33 L 609.57 545.97 L 615.96 597.99 L 622.34 493.94 L 628.72 571.97 L 635.11 415.88 L 641.49 532.94 L 647.87 591.47 L 654.26 620.73 L 660.64 635.37 L 667.02 606.08 L 673.40 628.04 L 679.79 639.02 L 686.17 617.03 L 692.55 633.52 L 698.94 641.76 L 705.32 625.25 L 711.70 637.62 L 718.09 643.81 L 724.47 646.91 L 730.85 648.45 L 737.23 645.33 L 743.62 647.67 L 750.00 648.83 L 756.38 649.42 L 762.77 648.22 L 769.15 649.11 L 775.53 647.31 L 781.91 648.66 L 788.30 645.94 L 794.68 647.97 L 801.06 648.99 L 807.45 649.49 L 813.83 649.75 L 820.21 649.87 L 826.60 649.59 L 832.98 649.80 L 839.36 649.90 L 845.74 649.95 L 852.13 649.97\"/></g><g id=\"poloto_plot3\" class=\"poloto_plot poloto_imgs poloto_line poloto3 poloto_stroke\" fill=\"none\" stroke=\"black\"><path d=\" M 150.00 573.67 L 156.38 611.83 L 162.77 535.48 L 169.15 592.74 L 175.53 621.37 L 181.91 564.08 L 188.30 607.04 L 194.68 628.52 L 201.06 585.54 L 207.45 617.77 L 213.83 553.28 L 220.21 601.64 L 226.60 504.89 L 232.98 577.45 L 239.36 432.31 L 245.74 541.16 L 252.13 595.58 L 258.51 622.79 L 264.89 568.34 L 271.28 609.17 L 277.66 629.59 L 284.04 588.73 L 290.43 619.37 L 296.81 634.68 L 303.19 642.34 L 309.57 646.17 L 315.96 638.49 L 322.34 644.24 L 328.72 632.70 L 335.11 641.35 L 341.49 624.03 L 347.87 637.02 L 354.26 643.51 L 360.64 646.75 L 367.02 648.38 L 373.40 649.19 L 379.79 649.59 L 386.17 649.80 L 392.55 649.90 L 398.94 649.95 L 405.32 649.97\"/></g><g id=\"poloto_plot4\" class=\"poloto_plot poloto_imgs poloto_line poloto4 poloto_stroke\" fill=\"none\" stroke=\"black\"><path d=\" M 150.00 637.27 L 156.38 643.63 L 162.77 630.88 L 169.15 640.44 L 175.53 621.29 L 181.91 635.65 L 188.30 642.82 L 194.68 628.44 L 201.06 639.22 L 207.45 617.64 L 213.83 633.82 L 220.21 641.91 L 226.60 625.71 L 232.98 637.85 L 239.36 613.53 L 245.74 631.77 L 252.13 595.27 L 258.51 622.64 L 264.89 567.89 L 271.28 608.94 L 277.66 526.80 L 284.04 588.40 L 290.43 465.18 L 296.81 557.59 L 303.19 603.79 L 309.57 626.90 L 315.96 580.67 L 322.34 615.33 L 328.72 545.97 L 335.11 597.99 L 341.49 493.94 L 347.87 571.97 L 354.26 415.88 L 360.64 532.94 L 367.02 591.47 L 373.40 620.73 L 379.79 635.37 L 386.17 606.08 L 392.55 628.04 L 398.94 639.02 L 405.32 617.03 L 411.70 633.52 L 418.09 641.76 L 424.47 625.25 L 430.85 637.62 L 437.23 643.81 L 443.62 646.91 L 450.00 648.45 L 456.38 645.33 L 462.77 647.67 L 469.15 648.83 L 475.53 649.42 L 481.91 648.22 L 488.30 649.11 L 494.68 647.31 L 501.06 648.66 L 507.45 645.94 L 513.83 647.97 L 520.21 648.99 L 526.60 649.49 L 532.98 649.75 L 539.36 649.87 L 545.74 649.59 L 552.13 649.80 L 558.51 649.90 L 564.89 649.95 L 571.28 649.97\"/></g><g id=\"poloto_plot5\" class=\"poloto_plot poloto_imgs poloto_line poloto5 poloto_stroke\" fill=\"none\" stroke=\"black\"><path d=\" M 150.00 573.52 L 156.38 611.76 L 162.77 630.88 L 169.15 640.44 L 175.53 621.29 L 181.91 635.65 L 188.30 642.82 L 194.68 628.44 L 201.06 639.22 L 207.45 617.64 L 213.83 633.82 L 220.21 641.91 L 226.60 625.71 L 232.98 637.85 L 239.36 613.53 L 245.74 631.77 L 252.13 595.27 L 258.51 622.64 L 264.89 567.89 L 271.28 608.94 L 277.66 526.80 L 284.04 588.40 L 290.43 465.18 L 296.81 557.59 L 303.19 603.79 L 309.57 626.90 L 315.96 580.67 L 322.34 615.33 L 328.72 545.97 L 335.11 597.99 L 341.49 493.94 L 347.87 571.97 L 354.26 415.88 L 360.64 532.94 L 367.02 591.47 L 373.40 620.73 L 379.79 635.37 L 386.17 606.08 L 392.55 628.04 L 398.94 639.02 L 405.32 617.03 L 411.70 633.52 L 418.09 641.76 L 424.47 625.25 L 430.85 637.62 L 437.23 643.81 L 443.62 646.91 L 450.00 648.45 L 456.38 645.33 L 462.77 647.67 L 469.15 648.83 L 475.53 649.42 L 481.91 648.22 L 488.30 649.11 L 494.68 647.31 L 501.06 648.66 L 507.45 645.94 L 513.83 647.97 L 520.21 648.99 L 526.60 649.49 L 532.98 649.75 L 539.36 649.87 L 545.74 649.59 L 552.13 649.80 L 558.51 649.90 L 564.89 649.95 L 571.28 649.97\"/></g><g class=\"poloto_legend poloto_imgs poloto_line poloto0 poloto_stroke\"><line x1=\"1080\" x2=\"1130\" y1=\"81.25\" y2=\"81.25\"/></g><g class=\"poloto_legend poloto_imgs poloto_line poloto1 poloto_stroke\"><line x1=\"1080\" x2=\"1130\" y1=\"131.25\" y2=\"131.25\"/></g><g class=\"poloto_legend poloto_imgs poloto_line poloto2 poloto_stroke\"><line x1=\"1080\" x2=\"1130\" y1=\"181.25\" y2=\"181.25\"/></g><g class=\"poloto_legend poloto_imgs poloto_line poloto3 poloto_stroke\"><line x1=\"1080\" x2=\"1130\" y1=\"231.25\" y2=\"231.25\"/></g><g class=\"poloto_legend poloto_imgs poloto_line poloto4 poloto_stroke\"><line x1=\"1080\" x2=\"1130\" y1=\"281.25\" y2=\"281.25\"/></g><g class=\"poloto_legend poloto_imgs poloto_line poloto5 poloto_stroke\"><line x1=\"1080\" x2=\"1130\" y1=\"331.25\" y2=\"331.25\"/></g><text class=\"poloto_legend poloto_text poloto_line poloto0\" x=\"1075\" y=\"100\"> c(1000)</text><text class=\"poloto_legend poloto_text poloto_line poloto1\" x=\"1075\" y=\"150\"> c(1001)</text><text class=\"poloto_legend poloto_text poloto_line poloto2\" x=\"1075\" y=\"200\"> c(1002)</text><text class=\"poloto_legend poloto_text poloto_line poloto3\" x=\"1075\" y=\"250\"> c(1003)</text><text class=\"poloto_legend poloto_text poloto_line poloto4\" x=\"1075\" y=\"300\"> c(1004)</text><text class=\"poloto_legend poloto_text poloto_line poloto5\" x=\"1075\" y=\"350\"> c(1005)</text><text class=\"poloto_text poloto_name poloto_title\" x=\"600.00\" y=\"37.50\">collatz</text><text class=\"poloto_text poloto_name poloto_x\" x=\"600.00\" y=\"731.25\">x</text><text class=\"poloto_text poloto_name poloto_y\" x=\"37.50\" y=\"375.00\" transform=\"rotate(-90,37.50,375.00)\">y</text><text class=\"poloto_text poloto_ticks poloto_y\"><tspan x=\"135.00\" y=\"650.00\">0</tspan><tspan x=\"135.00\" y=\"599.28\">2000</tspan><tspan x=\"135.00\" y=\"548.56\">4000</tspan><tspan x=\"135.00\" y=\"497.84\">6000</tspan><tspan x=\"135.00\" y=\"447.12\">8000</tspan><tspan x=\"135.00\" y=\"396.40\">10000</tspan><tspan x=\"135.00\" y=\"345.68\">12000</tspan><tspan x=\"135.00\" y=\"294.96\">14000</tspan><tspan x=\"135.00\" y=\"244.25\">16000</tspan><tspan x=\"135.00\" y=\"193.53\">18000</tspan><tspan x=\"135.00\" y=\"142.81\">20000</tspan></text><g class=\"poloto_imgs poloto_ticks poloto_y\" stroke=\"black\"><line x1=\"150.00\" x2=\"144.00\" y1=\"650.00\" y2=\"650.00\"/><line x1=\"150.00\" x2=\"144.00\" y1=\"599.28\" y2=\"599.28\"/><line x1=\"150.00\" x2=\"144.00\" y1=\"548.56\" y2=\"548.56\"/><line x1=\"150.00\" x2=\"144.00\" y1=\"497.84\" y2=\"497.84\"/><line x1=\"150.00\" x2=\"144.00\" y1=\"447.12\" y2=\"447.12\"/><line x1=\"150.00\" x2=\"144.00\" y1=\"396.40\" y2=\"396.40\"/><line x1=\"150.00\" x2=\"144.00\" y1=\"345.68\" y2=\"345.68\"/><line x1=\"150.00\" x2=\"144.00\" y1=\"294.96\" y2=\"294.96\"/><line x1=\"150.00\" x2=\"144.00\" y1=\"244.25\" y2=\"244.25\"/><line x1=\"150.00\" x2=\"144.00\" y1=\"193.53\" y2=\"193.53\"/><line x1=\"150.00\" x2=\"144.00\" y1=\"142.81\" y2=\"142.81\"/></g><g class=\"poloto_grid poloto_y\" stroke=\"black\"><line x1=\"150.00\" x2=\"1050.00\" y1=\"650.00\" y2=\"650.00\"/><line x1=\"150.00\" x2=\"1050.00\" y1=\"599.28\" y2=\"599.28\"/><line x1=\"150.00\" x2=\"1050.00\" y1=\"548.56\" y2=\"548.56\"/><line x1=\"150.00\" x2=\"1050.00\" y1=\"497.84\" y2=\"497.84\"/><line x1=\"150.00\" x2=\"1050.00\" y1=\"447.12\" y2=\"447.12\"/><line x1=\"150.00\" x2=\"1050.00\" y1=\"396.40\" y2=\"396.40\"/><line x1=\"150.00\" x2=\"1050.00\" y1=\"345.68\" y2=\"345.68\"/><line x1=\"150.00\" x2=\"1050.00\" y1=\"294.96\" y2=\"294.96\"/><line x1=\"150.00\" x2=\"1050.00\" y1=\"244.25\" y2=\"244.25\"/><line x1=\"150.00\" x2=\"1050.00\" y1=\"193.53\" y2=\"193.53\"/><line x1=\"150.00\" x2=\"1050.00\" y1=\"142.81\" y2=\"142.81\"/></g><text class=\"poloto_text poloto_ticks poloto_x\"><tspan x=\"150.00\" y=\"680.00\">0</tspan><tspan x=\"277.66\" y=\"680.00\">20</tspan><tspan x=\"405.32\" y=\"680.00\">40</tspan><tspan x=\"532.98\" y=\"680.00\">60</tspan><tspan x=\"660.64\" y=\"680.00\">80</tspan><tspan x=\"788.30\" y=\"680.00\">100</tspan><tspan x=\"915.96\" y=\"680.00\">120</tspan><tspan x=\"1043.62\" y=\"680.00\">140</tspan></text><g class=\"poloto_imgs poloto_ticks poloto_x\" stroke=\"black\"><line x1=\"150.00\" x2=\"150.00\" y1=\"650.00\" y2=\"655.00\"/><line x1=\"277.66\" x2=\"277.66\" y1=\"650.00\" y2=\"655.00\"/><line x1=\"405.32\" x2=\"405.32\" y1=\"650.00\" y2=\"655.00\"/><line x1=\"532.98\" x2=\"532.98\" y1=\"650.00\" y2=\"655.00\"/><line x1=\"660.64\" x2=\"660.64\" y1=\"650.00\" y2=\"655.00\"/><line x1=\"788.30\" x2=\"788.30\" y1=\"650.00\" y2=\"655.00\"/><line x1=\"915.96\" x2=\"915.96\" y1=\"650.00\" y2=\"655.00\"/><line x1=\"1043.62\" x2=\"1043.62\" y1=\"650.00\" y2=\"655.00\"/></g><g class=\"poloto_grid poloto_x\" stroke=\"black\"><line x1=\"150.00\" x2=\"150.00\" y1=\"650.00\" y2=\"100.00\"/><line x1=\"277.66\" x2=\"277.66\" y1=\"650.00\" y2=\"100.00\"/><line x1=\"405.32\" x2=\"405.32\" y1=\"650.00\" y2=\"100.00\"/><line x1=\"532.98\" x2=\"532.98\" y1=\"650.00\" y2=\"100.00\"/><line x1=\"660.64\" x2=\"660.64\" y1=\"650.00\" y2=\"100.00\"/><line x1=\"788.30\" x2=\"788.30\" y1=\"650.00\" y2=\"100.00\"/><line x1=\"915.96\" x2=\"915.96\" y1=\"650.00\" y2=\"100.00\"/><line x1=\"1043.62\" x2=\"1043.62\" y1=\"650.00\" y2=\"100.00\"/></g><path class=\"poloto_imgs poloto_ticks poloto_x\" stroke=\"black\" style=\"stroke-dasharray:6.382978723404255;stroke-dashoffset:-0;\" d=\" M 150.00 650.00 L 1050.00 650.00\"/><path class=\"poloto_imgs poloto_ticks poloto_y\" stroke=\"black\" style=\"stroke-dasharray:12.679822943563261;stroke-dashoffset:-0;\" d=\" M 150.00 650.00 L 150.00 100.00\"/></svg>"
      ],
      "text/plain": [
       "()"
      ]
     },
     "execution_count": 77,
     "metadata": {},
     "output_type": "execute_result"
    }
   ],
   "source": [
    "{\n",
    "    use hypermelon::prelude::*;\n",
    "    use poloto::build;\n",
    "\n",
    "    let collatz = |mut a: i128| {\n",
    "    std::iter::from_fn(move || {\n",
    "            if a == 1 {\n",
    "                None\n",
    "            } else {\n",
    "                a = if a % 2 == 0 { a / 2 } else { 3 * a + 1 };\n",
    "                Some(a)\n",
    "            }\n",
    "        })\n",
    "        .fuse()\n",
    "    };\n",
    "\n",
    "    let svg = poloto::header().with_viewbox_width(1200.0);\n",
    "\n",
    "    //let style =\n",
    "    //    poloto::render::Theme::dark().append(\".poloto_line{stroke-dasharray:2;stroke-width:2;}\");\n",
    "\n",
    "    let a = (1000..1006).map(|i| build::plot(format!(\"c({})\", i)).line((0..).zip(collatz(i))));\n",
    "\n",
    "    poloto::frame()\n",
    "        .with_tick_lines([true, true])\n",
    "        .with_viewbox(svg.get_viewbox())\n",
    "        .build()\n",
    "        .data(poloto::plots!(poloto::build::origin(), a))\n",
    "        .build_and_label((\"collatz\", \"x\", \"y\"))\n",
    "        .append_to(svg)\n",
    "        .render_evcxr();\n",
    "}"
   ]
  }
 ],
 "metadata": {
  "kernelspec": {
   "display_name": "Rust",
   "language": "rust",
   "name": "rust"
  },
  "language_info": {
   "codemirror_mode": "rust",
   "file_extension": ".rs",
   "mimetype": "text/rust",
   "name": "Rust",
   "pygment_lexer": "rust",
   "version": ""
  }
 },
 "nbformat": 4,
 "nbformat_minor": 5
}
