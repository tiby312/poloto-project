{
 "cells": [
  {
   "cell_type": "markdown",
   "id": "89b2af5b",
   "metadata": {},
   "source": [
    "NOTE: The github viewer doesnt support embeded svg in img tags at this time. To view this notebook correctly, use\n",
    "an external viewer. You can view it with vscode as well.\n",
    "\n",
    "Here is the nbviewer link\n",
    "https://nbviewer.org/github/tiby312/poloto-project/blob/master/poloto-evcxr/example.ipynb\n",
    "\n",
    "Alternative\n",
    "https://jsvine.github.io/nbpreview/."
   ]
  },
  {
   "cell_type": "markdown",
   "id": "6ef1230c",
   "metadata": {},
   "source": [
    "### Setup\n",
    "\n",
    "First lets import poloto."
   ]
  },
  {
   "cell_type": "code",
   "execution_count": null,
   "id": "electrical-adams",
   "metadata": {
    "vscode": {
     "languageId": "rust"
    }
   },
   "outputs": [],
   "source": [
    ":dep tagu\n",
    ":dep poloto\n",
    "use tagu::prelude::*;\n",
    "use poloto::prelude::*;\n",
    "use poloto::build;"
   ]
  },
  {
   "cell_type": "markdown",
   "id": "a3da3dd8",
   "metadata": {},
   "source": [
    "Next import evcxr rendering for poloto."
   ]
  },
  {
   "cell_type": "code",
   "execution_count": null,
   "id": "3846a0fa",
   "metadata": {
    "vscode": {
     "languageId": "rust"
    }
   },
   "outputs": [],
   "source": [
    ":dep poloto-evcxr\n",
    "use poloto_evcxr::prelude::*;"
   ]
  },
  {
   "cell_type": "markdown",
   "id": "09b54d83",
   "metadata": {},
   "source": [
    "### Examples\n",
    "\n",
    "Here is a list of example code and their svg outputs."
   ]
  },
  {
   "cell_type": "code",
   "execution_count": null,
   "id": "2c0d3d11",
   "metadata": {
    "vscode": {
     "languageId": "rust"
    }
   },
   "outputs": [],
   "source": [
    "{ // Hello world example\n",
    "    let data = vec![[0, 0], [1, 2], [2, 3]];\n",
    "\n",
    "    let a = build::plot(\"label\").line(data);\n",
    "\n",
    "    poloto::frame_build()\n",
    "        .data(a)\n",
    "        .build_and_label((\"hello world\", \"x\", \"y\"))\n",
    "        .append_to(poloto::header().light_theme())\n",
    "        .render_evcxr_img();\n",
    "}\n"
   ]
  },
  {
   "cell_type": "code",
   "execution_count": null,
   "id": "a242fc95",
   "metadata": {
    "vscode": {
     "languageId": "rust"
    }
   },
   "outputs": [],
   "source": [
    "{ // Custom Ticks Example\n",
    "    // hourly trend over one day.\n",
    "    let trend = vec![\n",
    "        0, 0, 0, 0, 0, 3, 5, 5, 10, 20, 50, 60, 70, 50, 40, 34, 34, 20, 10, 20, 10, 4, 2, 0,\n",
    "    ];\n",
    "\n",
    "    let plots = poloto::plots!(\n",
    "        build::plot(\"\").histogram((0..).zip(trend)),\n",
    "        build::markers([24], [])\n",
    "    );\n",
    "\n",
    "    let data = poloto::frame_build().data(plots);\n",
    "\n",
    "    let ticks =\n",
    "        poloto::ticks::from_iter((0..).step_by(6)).with_tick_fmt(|&v| format_move!(\"{} hr\", v));\n",
    "\n",
    "    data.map_xticks(|_| ticks)\n",
    "        .build_and_label((\"title\", \"x\", \"y\"))\n",
    "        .append_to(poloto::header().light_theme())\n",
    "        .render_evcxr_img();\n",
    "}"
   ]
  },
  {
   "cell_type": "code",
   "execution_count": null,
   "id": "2069db7d",
   "metadata": {
    "vscode": {
     "languageId": "rust"
    }
   },
   "outputs": [],
   "source": [
    "{ // Custom Tick Format Example\n",
    "    // hourly trend over one day.\n",
    "    let trend = vec![\n",
    "        0, 0, 0, 0, 0, 3, 5, 5, 10, 20, 50, 60, 70, 50, 40, 34, 34, 20, 10, 20, 10, 4, 2, 0,\n",
    "    ];\n",
    "\n",
    "    let plots = poloto::plots!(\n",
    "        build::plot(\"\").histogram((0..).zip(trend)),\n",
    "        build::markers([24], [])\n",
    "    );\n",
    "\n",
    "    let data = poloto::frame_build().data(plots);\n",
    "\n",
    "    let data = data.map_xticks(|orig| {\n",
    "        poloto::ticks::from_closure(|a, b, c| {\n",
    "            let orig = poloto::ticks::gen_ticks(orig, a, b, c);\n",
    "            poloto::ticks::from_iter(orig.iter).with_tick_fmt(|&v| format_move!(\"{} hr\", v))\n",
    "        })\n",
    "    });\n",
    "\n",
    "    data.build_and_label((\"title\", \"x\", \"y\"))\n",
    "        .append_to(poloto::header().light_theme())\n",
    "        .render_evcxr_img();\n",
    "}\n"
   ]
  },
  {
   "cell_type": "code",
   "execution_count": null,
   "id": "4e1cf941",
   "metadata": {
    "vscode": {
     "languageId": "rust"
    }
   },
   "outputs": [],
   "source": [
    "{ // Gaussian Example\n",
    "    // See https://en.wikipedia.org/wiki/Gaussian_function\n",
    "    let gau = |sigma: f64, mu: f64| {\n",
    "        use std::f64::consts::TAU;\n",
    "        let s = sigma.powi(2);\n",
    "        let k = (sigma * TAU).sqrt().recip();\n",
    "        move |x: f64| [x, (-0.5 * (x - mu).powi(2) / s).exp() * k]\n",
    "    };\n",
    "\n",
    "    let xs = poloto::util::range_iter([-5.0, 5.0], 200);\n",
    "\n",
    "    let plots = poloto::plots!(\n",
    "        build::plot(\"σ=1.0\").line(xs.clone().map(gau(1.0, 0.0))),\n",
    "        build::plot(\"σ=0.5\").line(xs.clone().map(gau(0.5, 0.0))),\n",
    "        build::plot(\"σ=0.3\").line(xs.clone().map(gau(0.3, 0.0)))\n",
    "    );\n",
    "\n",
    "    poloto::frame_build()\n",
    "        .data(poloto::plots!(build::origin(), plots))\n",
    "        .build_and_label((\"gaussian\", \"x\", \"y\"))\n",
    "        .append_to(poloto::header().light_theme())\n",
    "        .render_evcxr_img();\n",
    "}"
   ]
  },
  {
   "cell_type": "code",
   "execution_count": null,
   "id": "724206fc",
   "metadata": {
    "vscode": {
     "languageId": "rust"
    }
   },
   "outputs": [],
   "source": [
    "{ // Collatz Example\n",
    "    let collatz = |mut a: i128| {\n",
    "    std::iter::from_fn(move || {\n",
    "            if a == 1 {\n",
    "                None\n",
    "            } else {\n",
    "                a = if a % 2 == 0 { a / 2 } else { 3 * a + 1 };\n",
    "                Some(a)\n",
    "            }\n",
    "        })\n",
    "        .fuse()\n",
    "    };\n",
    "\n",
    "    let svg = poloto::header().with_viewbox_width(1200.0);\n",
    "\n",
    "    let style =\n",
    "        poloto::render::Theme::dark().append(\".poloto_line{stroke-dasharray:2;stroke-width:2;}\");\n",
    "\n",
    "    let a = (1000..1006).map(|i| build::plot(format!(\"c({})\", i)).line((0..).zip(collatz(i))));\n",
    "\n",
    "    poloto::frame()\n",
    "        .with_tick_lines([true, true])\n",
    "        .with_viewbox(svg.get_viewbox())\n",
    "        .build()\n",
    "        .data(poloto::plots!(poloto::build::origin(), a))\n",
    "        .build_and_label((\"collatz\", \"x\", \"y\"))\n",
    "        .append_to(svg.append(style))\n",
    "        .render_evcxr_img();\n",
    "}"
   ]
  },
  {
   "cell_type": "code",
   "execution_count": null,
   "id": "9e81bdff",
   "metadata": {
    "vscode": {
     "languageId": "rust"
    }
   },
   "outputs": [],
   "source": [
    "{ // Styling Example\n",
    "    let theme = poloto::render::Theme::light();\n",
    "\n",
    "    // Style the first plot and its legend image if it is a histogram.\n",
    "    let theme =\n",
    "        theme.append(\".poloto0.poloto_histo.poloto_imgs{fill:red;stroke:black;stroke-width:2px}\");\n",
    "\n",
    "    // Some attributes have to accessed directly , so use >* to select the rects directly.\n",
    "    let theme = theme.append(\".poloto0.poloto_histo.poloto_imgs>*{rx:20px;ry:20px}\");\n",
    "\n",
    "    // Style the text of the first legend\n",
    "    let theme = theme.append(\".poloto0.poloto_legend.poloto_text{fill:blue;}\");\n",
    "\n",
    "    // Style all line plots but not legend img.\n",
    "    let theme = theme.append(\".poloto_line.poloto_imgs.poloto_plot{stroke:purple;stroke-width:20px;stroke-dasharray:40px}\");\n",
    "\n",
    "    // Style all line plot legend imgs.\n",
    "    let theme = theme.append(\".poloto_line.poloto_imgs.poloto_legend{stroke:purple;stroke-width:10px;stroke-dasharray:10px}\");\n",
    "\n",
    "    // Style the scatter plots but not legend img\n",
    "    let theme = theme.append(\".poloto_scatter.poloto_plot{fill:purple;stroke-width:20px;}\");\n",
    "\n",
    "    // Style the scatter plots but not legend img\n",
    "    let theme = theme.append(\".poloto_scatter.poloto_plot{fill:purple;stroke-width:20px;}\");\n",
    "\n",
    "    // Style the xaxis name\n",
    "    let theme = theme.append(\n",
    "        \".poloto_name.poloto_x{fill:orange;stroke-width:20px;font-size:30px;font-style: italic;}\",\n",
    "    );\n",
    "\n",
    "    // Style the background\n",
    "    let theme = theme.append(\".poloto_background{fill:darkslategray;}\");\n",
    "\n",
    "    // Style the text\n",
    "    let theme = theme.append(\".poloto_text{fill: peru;}\");\n",
    "\n",
    "    // Style the ticks\n",
    "    let theme = theme.append(\".poloto_imgs.poloto_ticks{stroke:springgreen;}\");\n",
    "\n",
    "    let x = (0..50).map(|x| (x as f64 / 50.0) * 10.0);\n",
    "\n",
    "    let data = poloto::plots!(\n",
    "        build::plot(\"sin-10\").histogram(x.clone().step_by(3).zip_output(|x| x.sin() - 10.)),\n",
    "        build::plot(\"cos\").line(x.clone().zip_output(|x| x.cos())),\n",
    "        build::plot(\"sin-5\").scatter(x.clone().step_by(3).zip_output(|x| x.sin() - 5.))\n",
    "    );\n",
    "\n",
    "    poloto::frame_build()\n",
    "        .data(data)\n",
    "        .build_and_label((\n",
    "            \"Demo: you can change the style of the svg file itself!\",\n",
    "            \"x axis\",\n",
    "            \"y axis\",\n",
    "        ))\n",
    "        .append_to(poloto::header().append(theme))\n",
    "        .render_evcxr_img();\n",
    "}\n"
   ]
  },
  {
   "cell_type": "code",
   "execution_count": null,
   "id": "56fb9866",
   "metadata": {
    "vscode": {
     "languageId": "rust"
    }
   },
   "outputs": [],
   "source": [
    "{ // Bar Example\n",
    "    let data = [\n",
    "        (20, \"potato\"),\n",
    "        (14, \"broccoli\"),\n",
    "        (53, \"pizza\"),\n",
    "        (30, \"avocado\"),\n",
    "    ];\n",
    "\n",
    "    poloto::build::bar::gen_simple(\"\", data, [0])\n",
    "        .label((\"Comparison of Food Tastiness\", \"Tastiness\", \"Foods\"))\n",
    "        .append_to(poloto::header().light_theme())\n",
    "        .render_evcxr_img();\n",
    "}\n"
   ]
  },
  {
   "cell_type": "code",
   "execution_count": null,
   "id": "c64a8c8a",
   "metadata": {
    "vscode": {
     "languageId": "rust"
    }
   },
   "outputs": [],
   "source": [
    "{ // Heart Example\n",
    "    // https://mathworld.wolfram.com/HeartCurve.html\n",
    "    let heart = |t: f64| {\n",
    "        [\n",
    "            16.0 * t.sin().powi(3),\n",
    "            13.0 * t.cos() - 5.0 * (2.0 * t).cos() - 2.0 * (3.0 * t).cos() - (4.0 * t).cos(),\n",
    "        ]\n",
    "    };\n",
    "\n",
    "    let range = (0..100).map(|x| x as f64 / 100.0).map(|x| x * 6.0 - 3.0);\n",
    "\n",
    "    let canvas = poloto::frame().preserve_aspect().build();\n",
    "\n",
    "    let plots = poloto::plots!(\n",
    "        build::plot(\"\").line_fill_raw(range.map(heart)),\n",
    "        poloto::build::markers([-20.0, 20.0], [-20.0, 20.0])\n",
    "    );\n",
    "\n",
    "    canvas\n",
    "        .data(plots)\n",
    "        .build_and_label((\"Heart Graph\", \"x\", \"y\"))\n",
    "        .append_to(poloto::header().dark_theme())\n",
    "        .render_evcxr_img()\n",
    "}"
   ]
  }
 ],
 "metadata": {
  "kernelspec": {
   "display_name": "Rust",
   "language": "rust",
   "name": "rust"
  },
  "language_info": {
   "codemirror_mode": "rust",
   "file_extension": ".rs",
   "mimetype": "text/rust",
   "name": "Rust",
   "pygment_lexer": "rust",
   "version": ""
  }
 },
 "nbformat": 4,
 "nbformat_minor": 5
}
