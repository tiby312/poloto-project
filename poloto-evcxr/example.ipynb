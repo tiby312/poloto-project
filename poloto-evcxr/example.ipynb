{
 "cells": [
  {
   "cell_type": "markdown",
   "id": "6ef1230c",
   "metadata": {},
   "source": [
    "First lets import poloto."
   ]
  },
  {
   "cell_type": "code",
   "execution_count": 12,
   "id": "electrical-adams",
   "metadata": {
    "vscode": {
     "languageId": "rust"
    }
   },
   "outputs": [],
   "source": [
    ":dep poloto"
   ]
  },
  {
   "cell_type": "markdown",
   "id": "a3da3dd8",
   "metadata": {},
   "source": [
    "Next import evcxr rendering for poloto."
   ]
  },
  {
   "cell_type": "code",
   "execution_count": 13,
   "id": "3846a0fa",
   "metadata": {
    "vscode": {
     "languageId": "rust"
    }
   },
   "outputs": [],
   "source": [
    ":dep poloto-evcxr\n",
    "use poloto_evcxr::prelude::*;"
   ]
  },
  {
   "cell_type": "markdown",
   "id": "b2f5582f",
   "metadata": {},
   "source": [
    "Now lets make a simple function that just displays one plot to avoid having to write alot of boilerplate."
   ]
  },
  {
   "cell_type": "code",
   "execution_count": 14,
   "id": "electric-painting",
   "metadata": {
    "vscode": {
     "languageId": "rust"
    }
   },
   "outputs": [],
   "source": [
    "fn show(it:impl IntoIterator<Item=[f64;2]>){\n",
    "    let j=poloto::build::plot(\"a\").line(it.into_iter());\n",
    "    let res=poloto::frame_build().data(j).build_and_label((\"hello\",\"x\",\"y\"));\n",
    "    res.append_to(poloto::header().dark_theme()).render_evcxr();\n",
    "}"
   ]
  },
  {
   "cell_type": "markdown",
   "id": "732be9b6",
   "metadata": {},
   "source": [
    "Ok now lets plot some data."
   ]
  },
  {
   "cell_type": "code",
   "execution_count": 15,
   "id": "formal-brick",
   "metadata": {
    "vscode": {
     "languageId": "rust"
    }
   },
   "outputs": [
    {
     "data": {
      "image/svg+xml": "<svg class=\"poloto\" height=\"500\" style=\"stroke-linecap:round;stroke-linejoin:round;font-family:Roboto,sans-serif;font-size:16px;\" viewBox=\"0 0 800 500\" width=\"800\" xmlns=\"http://www.w3.org/2000/svg\">\n\t\n\t<circle class=\"poloto_background\" r=\"1e5\" style=\"fill:#262626;\"></circle>\n\t<g class=\"poloto_plot poloto_imgs poloto_line poloto0 poloto_stroke\" fill=\"none\" id=\"poloto_plot0\" stroke=\"black\" style=\"stroke-width:2;stroke:blue;\">\n\t\t<path d=\" M 150.00 400.00 L 316.67 340.00 L 650.00 100.00\"></path>\n\t</g>\n\t<g class=\"poloto_legend poloto_imgs poloto_line poloto0 poloto_stroke\" style=\"stroke-width:2;stroke:blue;\"><line x1=\"680\" x2=\"730\" y1=\"81.25\" y2=\"81.25\"></line></g>\n\t<text class=\"poloto_legend poloto_text poloto_line poloto0\" style=\"stroke-width:2;fill: white;font-size:20px;dominant-baseline:middle;text-anchor:start;\" x=\"675\" y=\"100\"> a</text>\n\t<text class=\"poloto_text poloto_name poloto_title\" style=\"fill: white;font-size:24px;dominant-baseline:start;text-anchor:middle;\" x=\"400.00\" y=\"37.50\">hello</text>\n\t<text class=\"poloto_text poloto_name poloto_x\" style=\"fill: white;font-size:24px;dominant-baseline:start;text-anchor:middle;\" x=\"400.00\" y=\"481.25\">x</text>\n\t<text class=\"poloto_text poloto_name poloto_y\" style=\"fill: white;font-size:24px;dominant-baseline:start;text-anchor:middle;\" transform=\"rotate(-90,37.50,250.00)\" x=\"37.50\" y=\"250.00\">y</text>\n\t<text class=\"poloto_text poloto_ticks poloto_y\" style=\"fill: white;dominant-baseline:middle;text-anchor:end;\">\n\t\t<tspan x=\"135.00\" y=\"400.00\">0</tspan>\n\t\t<tspan x=\"135.00\" y=\"340.00\">1</tspan>\n\t\t<tspan x=\"135.00\" y=\"280.00\">2</tspan>\n\t\t<tspan x=\"135.00\" y=\"220.00\">3</tspan>\n\t\t<tspan x=\"135.00\" y=\"160.00\">4</tspan>\n\t\t<tspan x=\"135.00\" y=\"100.00\">5</tspan>\n\t</text>\n\t<g class=\"poloto_imgs poloto_ticks poloto_y\" style=\"stroke: white;stroke-width:3;fill:none;stroke-dasharray:none;\">\n\t\t<line x1=\"150.00\" x2=\"144.00\" y1=\"400.00\" y2=\"400.00\"></line>\n\t\t<line x1=\"150.00\" x2=\"144.00\" y1=\"340.00\" y2=\"340.00\"></line>\n\t\t<line x1=\"150.00\" x2=\"144.00\" y1=\"280.00\" y2=\"280.00\"></line>\n\t\t<line x1=\"150.00\" x2=\"144.00\" y1=\"220.00\" y2=\"220.00\"></line>\n\t\t<line x1=\"150.00\" x2=\"144.00\" y1=\"160.00\" y2=\"160.00\"></line>\n\t\t<line x1=\"150.00\" x2=\"144.00\" y1=\"100.00\" y2=\"100.00\"></line>\n\t</g>\n\t<text class=\"poloto_text poloto_ticks poloto_x\" style=\"fill: white;dominant-baseline:start;text-anchor:middle;\">\n\t\t<tspan x=\"150.00\" y=\"430.00\">0.0</tspan>\n\t\t<tspan x=\"233.33\" y=\"430.00\">0.5</tspan>\n\t\t<tspan x=\"316.67\" y=\"430.00\">1.0</tspan>\n\t\t<tspan x=\"400.00\" y=\"430.00\">1.5</tspan>\n\t\t<tspan x=\"483.33\" y=\"430.00\">2.0</tspan>\n\t\t<tspan x=\"566.67\" y=\"430.00\">2.5</tspan>\n\t\t<tspan x=\"650.00\" y=\"430.00\">3.0</tspan>\n\t</text>\n\t<g class=\"poloto_imgs poloto_ticks poloto_x\" style=\"stroke: white;stroke-width:3;fill:none;stroke-dasharray:none;\">\n\t\t<line x1=\"150.00\" x2=\"150.00\" y1=\"400.00\" y2=\"405.00\"></line>\n\t\t<line x1=\"233.33\" x2=\"233.33\" y1=\"400.00\" y2=\"405.00\"></line>\n\t\t<line x1=\"316.67\" x2=\"316.67\" y1=\"400.00\" y2=\"405.00\"></line>\n\t\t<line x1=\"400.00\" x2=\"400.00\" y1=\"400.00\" y2=\"405.00\"></line>\n\t\t<line x1=\"483.33\" x2=\"483.33\" y1=\"400.00\" y2=\"405.00\"></line>\n\t\t<line x1=\"566.67\" x2=\"566.67\" y1=\"400.00\" y2=\"405.00\"></line>\n\t\t<line x1=\"650.00\" x2=\"650.00\" y1=\"400.00\" y2=\"405.00\"></line>\n\t</g>\n\t<path class=\"poloto_imgs poloto_ticks poloto_x\" d=\" M 150.00 400.00 L 650.00 400.00\" style=\"stroke-dasharray: 8.333333333333332;stroke-dashoffset: -0;stroke: white;stroke-width: 3;fill: none\"></path>\n\t<path class=\"poloto_imgs poloto_ticks poloto_y\" d=\" M 150.00 400.00 L 150.00 100.00\" style=\"stroke-dasharray: 6;stroke-dashoffset: -0;stroke: white;stroke-width: 3;fill: none\"></path>\n</svg>\n"
     },
     "execution_count": 15,
     "metadata": {},
     "output_type": "execute_result"
    }
   ],
   "source": [
    "let data=vec!([0.0,0.0],[1.0,1.0],[3.0,5.0]);\n",
    "show(data);"
   ]
  },
  {
   "cell_type": "markdown",
   "id": "dc51bea8",
   "metadata": {},
   "source": [
    "Ok cool. Now lets change the data."
   ]
  },
  {
   "cell_type": "code",
   "execution_count": 16,
   "id": "1a0df4d4",
   "metadata": {
    "vscode": {
     "languageId": "rust"
    }
   },
   "outputs": [
    {
     "data": {
      "image/svg+xml": "<svg class=\"poloto\" height=\"500\" style=\"stroke-linecap:round;stroke-linejoin:round;font-family:Roboto,sans-serif;font-size:16px;\" viewBox=\"0 0 800 500\" width=\"800\" xmlns=\"http://www.w3.org/2000/svg\">\n\t\n\t<circle class=\"poloto_background\" r=\"1e5\" style=\"fill:#262626;\"></circle>\n\t<g class=\"poloto_plot poloto_imgs poloto_line poloto0 poloto_stroke\" fill=\"none\" id=\"poloto_plot0\" stroke=\"black\" style=\"stroke-width:2;stroke:blue;\">\n\t\t<path d=\" M 150.00 100.00 L 400.00 340.00 L 650.00 400.00\"></path>\n\t</g>\n\t<g class=\"poloto_legend poloto_imgs poloto_line poloto0 poloto_stroke\" style=\"stroke-width:2;stroke:blue;\"><line x1=\"680\" x2=\"730\" y1=\"81.25\" y2=\"81.25\"></line></g>\n\t<text class=\"poloto_legend poloto_text poloto_line poloto0\" style=\"stroke-width:2;fill: white;font-size:20px;dominant-baseline:middle;text-anchor:start;\" x=\"675\" y=\"100\"> a</text>\n\t<text class=\"poloto_text poloto_name poloto_title\" style=\"fill: white;font-size:24px;dominant-baseline:start;text-anchor:middle;\" x=\"400.00\" y=\"37.50\">hello</text>\n\t<text class=\"poloto_text poloto_name poloto_x\" style=\"fill: white;font-size:24px;dominant-baseline:start;text-anchor:middle;\" x=\"400.00\" y=\"481.25\">x</text>\n\t<text class=\"poloto_text poloto_name poloto_y\" style=\"fill: white;font-size:24px;dominant-baseline:start;text-anchor:middle;\" transform=\"rotate(-90,37.50,250.00)\" x=\"37.50\" y=\"250.00\">y</text>\n\t<text class=\"poloto_text poloto_ticks poloto_y\" style=\"fill: white;dominant-baseline:middle;text-anchor:end;\">\n\t\t<tspan x=\"135.00\" y=\"400.00\">0</tspan>\n\t\t<tspan x=\"135.00\" y=\"340.00\">1</tspan>\n\t\t<tspan x=\"135.00\" y=\"280.00\">2</tspan>\n\t\t<tspan x=\"135.00\" y=\"220.00\">3</tspan>\n\t\t<tspan x=\"135.00\" y=\"160.00\">4</tspan>\n\t\t<tspan x=\"135.00\" y=\"100.00\">5</tspan>\n\t</text>\n\t<g class=\"poloto_imgs poloto_ticks poloto_y\" style=\"stroke: white;stroke-width:3;fill:none;stroke-dasharray:none;\">\n\t\t<line x1=\"150.00\" x2=\"144.00\" y1=\"400.00\" y2=\"400.00\"></line>\n\t\t<line x1=\"150.00\" x2=\"144.00\" y1=\"340.00\" y2=\"340.00\"></line>\n\t\t<line x1=\"150.00\" x2=\"144.00\" y1=\"280.00\" y2=\"280.00\"></line>\n\t\t<line x1=\"150.00\" x2=\"144.00\" y1=\"220.00\" y2=\"220.00\"></line>\n\t\t<line x1=\"150.00\" x2=\"144.00\" y1=\"160.00\" y2=\"160.00\"></line>\n\t\t<line x1=\"150.00\" x2=\"144.00\" y1=\"100.00\" y2=\"100.00\"></line>\n\t</g>\n\t<text class=\"poloto_text poloto_ticks poloto_x\" style=\"fill: white;dominant-baseline:start;text-anchor:middle;\">\n\t\t<tspan x=\"150.00\" y=\"430.00\">1.0</tspan>\n\t\t<tspan x=\"275.00\" y=\"430.00\">1.5</tspan>\n\t\t<tspan x=\"400.00\" y=\"430.00\">2.0</tspan>\n\t\t<tspan x=\"525.00\" y=\"430.00\">2.5</tspan>\n\t\t<tspan x=\"650.00\" y=\"430.00\">3.0</tspan>\n\t</text>\n\t<g class=\"poloto_imgs poloto_ticks poloto_x\" style=\"stroke: white;stroke-width:3;fill:none;stroke-dasharray:none;\">\n\t\t<line x1=\"150.00\" x2=\"150.00\" y1=\"400.00\" y2=\"405.00\"></line>\n\t\t<line x1=\"275.00\" x2=\"275.00\" y1=\"400.00\" y2=\"405.00\"></line>\n\t\t<line x1=\"400.00\" x2=\"400.00\" y1=\"400.00\" y2=\"405.00\"></line>\n\t\t<line x1=\"525.00\" x2=\"525.00\" y1=\"400.00\" y2=\"405.00\"></line>\n\t\t<line x1=\"650.00\" x2=\"650.00\" y1=\"400.00\" y2=\"405.00\"></line>\n\t</g>\n\t<path class=\"poloto_imgs poloto_ticks poloto_x\" d=\" M 150.00 400.00 L 650.00 400.00\" style=\"stroke-dasharray: 12.5;stroke-dashoffset: -0;stroke: white;stroke-width: 3;fill: none\"></path>\n\t<path class=\"poloto_imgs poloto_ticks poloto_y\" d=\" M 150.00 400.00 L 150.00 100.00\" style=\"stroke-dasharray: 6;stroke-dashoffset: -0;stroke: white;stroke-width: 3;fill: none\"></path>\n</svg>\n"
     },
     "execution_count": 16,
     "metadata": {},
     "output_type": "execute_result"
    }
   ],
   "source": [
    "let data=vec!([1.0,5.0],[2.0,1.0],[3.0,0.0]);\n",
    "show(data);"
   ]
  },
  {
   "cell_type": "markdown",
   "id": "0a1c4e67",
   "metadata": {},
   "source": [
    "Oh no now the data is going down!"
   ]
  }
 ],
 "metadata": {
  "kernelspec": {
   "display_name": "Rust",
   "language": "rust",
   "name": "rust"
  },
  "language_info": {
   "codemirror_mode": "rust",
   "file_extension": ".rs",
   "mimetype": "text/rust",
   "name": "Rust",
   "pygment_lexer": "rust",
   "version": ""
  }
 },
 "nbformat": 4,
 "nbformat_minor": 5
}
