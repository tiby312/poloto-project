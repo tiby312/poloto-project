{
 "cells": [
  {
   "cell_type": "code",
   "execution_count": null,
   "id": "electrical-adams",
   "metadata": {},
   "outputs": [],
   "source": [
    ":dep poloto"
   ]
  },
  {
   "cell_type": "code",
   "execution_count": 3,
   "id": "electric-painting",
   "metadata": {},
   "outputs": [],
   "source": [
    ":dep poloto-evcxr"
   ]
  },
  {
   "cell_type": "code",
   "execution_count": 6,
   "id": "intermediate-billion",
   "metadata": {},
   "outputs": [],
   "source": [
    "let j=poloto::build::plot(\"a\").line(vec![5.0f64,1.0].into_iter().map(|a|(a,a)));"
   ]
  },
  {
   "cell_type": "code",
   "execution_count": 8,
   "id": "confirmed-collective",
   "metadata": {},
   "outputs": [],
   "source": [
    "let res=poloto::frame_build().data(j).build_and_label((\"hello\",\"x\",\"y\"));"
   ]
  },
  {
   "cell_type": "code",
   "execution_count": 11,
   "id": "formal-brick",
   "metadata": {},
   "outputs": [
    {
     "data": {
      "text/html": [
       "<img src=\"data:image/svg+xml;base64,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\"/>"
      ]
     },
     "execution_count": 11,
     "metadata": {},
     "output_type": "execute_result"
    }
   ],
   "source": [
    "poloto_evcxr::evcxr_display(res.append_to(poloto::header().light_theme()));"
   ]
  }
 ],
 "metadata": {
  "kernelspec": {
   "display_name": "Rust",
   "language": "rust",
   "name": "rust"
  },
  "language_info": {
   "codemirror_mode": "rust",
   "file_extension": ".rs",
   "mimetype": "text/rust",
   "name": "Rust",
   "pygment_lexer": "rust",
   "version": ""
  }
 },
 "nbformat": 4,
 "nbformat_minor": 5
}
