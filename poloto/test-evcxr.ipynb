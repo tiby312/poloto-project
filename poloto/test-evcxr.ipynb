{
 "cells": [
  {
   "cell_type": "code",
   "execution_count": 32,
   "id": "naked-nylon",
   "metadata": {},
   "outputs": [],
   "source": [
    ":dep poloto"
   ]
  },
  {
   "cell_type": "code",
   "execution_count": 33,
   "id": "quality-admission",
   "metadata": {},
   "outputs": [],
   "source": [
    "let j=poloto::build::plot(\"a\").line(vec![5.0f64,1.0].into_iter().map(|a|(a,a)));"
   ]
  },
  {
   "cell_type": "code",
   "execution_count": 34,
   "id": "flying-calcium",
   "metadata": {},
   "outputs": [],
   "source": [
    "let res=poloto::frame_build().data(j).build_and_label((\"hello\",\"x\",\"y\")).append_to(poloto::header().light_theme()).render_string();"
   ]
  },
  {
   "cell_type": "code",
   "execution_count": 35,
   "id": "married-cutting",
   "metadata": {},
   "outputs": [
    {
     "data": {
      "text/html": [
       "<svg class=\"poloto\" width=\"800\" height=\"500\" viewBox=\"0 0 800 500\" xmlns=\"http://www.w3.org/2000/svg\">\n",
       "\t<style>\n",
       " .poloto{\n",
       "  stroke-linecap:round;\n",
       "  stroke-linejoin:round;\n",
       "  font-family:Roboto,sans-serif;\n",
       "  font-size:16px;\n",
       "}\n",
       ".poloto_background{fill:AliceBlue;}\n",
       ".poloto_scatter{stroke-width:7}\n",
       ".poloto_line{stroke-width:2}\n",
       ".poloto_text{fill: black;}\n",
       ".poloto_name{font-size:24px;dominant-baseline:start;text-anchor:middle;}\n",
       ".poloto_where{dominant-baseline:middle;text-anchor:start}\n",
       ".poloto_text.poloto_legend{font-size:20px;dominant-baseline:middle;text-anchor:start;}\n",
       ".poloto_text.poloto_ticks.poloto_y{dominant-baseline:middle;text-anchor:end}\n",
       ".poloto_text.poloto_ticks.poloto_x{dominant-baseline:start;text-anchor:middle}\n",
       ".poloto_imgs.poloto_ticks{stroke: black;stroke-width:3;fill:none;stroke-dasharray:none}\n",
       ".poloto_grid{stroke:gray;stroke-width:0.5}\n",
       "\n",
       ".poloto0.poloto_stroke{stroke:blue;}\n",
       ".poloto1.poloto_stroke{stroke:red;}\n",
       ".poloto2.poloto_stroke{stroke:green;}\n",
       ".poloto3.poloto_stroke{stroke:gold;}\n",
       ".poloto4.poloto_stroke{stroke:aqua;}\n",
       ".poloto5.poloto_stroke{stroke:lime;}\n",
       ".poloto6.poloto_stroke{stroke:orange;}\n",
       ".poloto7.poloto_stroke{stroke:chocolate;}\n",
       ".poloto0.poloto_fill{fill:blue;}\n",
       ".poloto1.poloto_fill{fill:red;}\n",
       ".poloto2.poloto_fill{fill:green;}\n",
       ".poloto3.poloto_fill{fill:gold;}\n",
       ".poloto4.poloto_fill{fill:aqua;}\n",
       ".poloto5.poloto_fill{fill:lime;}\n",
       ".poloto6.poloto_fill{fill:orange;}\n",
       ".poloto7.poloto_fill{fill:chocolate;}\n",
       "\t</style>\n",
       "\t<circle r=\"1e5\" class=\"poloto_background\"/>\n",
       "\t<g id=\"poloto_plot0\" class=\"poloto_plot poloto_imgs poloto_line poloto0 poloto_stroke\" fill=\"none\" stroke=\"black\">\n",
       "\t\t<path d=\" M 650.00 100.00 L 150.00 400.00\"/>\n",
       "\t</g>\n",
       "\t<g class=\"poloto_legend poloto_imgs poloto_line poloto0 poloto_stroke\"><line x1=\"680\" x2=\"730\" y1=\"81.25\" y2=\"81.25\"/></g>\n",
       "\t<text class=\"poloto_legend poloto_text poloto_line poloto0\" x=\"675\" y=\"100\"> a</text>\n",
       "\t<text class=\"poloto_text poloto_name poloto_title\" x=\"400.00\" y=\"37.50\">hello</text>\n",
       "\t<text class=\"poloto_text poloto_name poloto_x\" x=\"400.00\" y=\"481.25\">x</text>\n",
       "\t<text class=\"poloto_text poloto_name poloto_y\" x=\"37.50\" y=\"250.00\" transform=\"rotate(-90,37.50,250.00)\">y</text>\n",
       "\t<text class=\"poloto_text poloto_ticks poloto_y\">\n",
       "\t\t<tspan x=\"135.00\" y=\"400.00\">1</tspan>\n",
       "\t\t<tspan x=\"135.00\" y=\"325.00\">2</tspan>\n",
       "\t\t<tspan x=\"135.00\" y=\"250.00\">3</tspan>\n",
       "\t\t<tspan x=\"135.00\" y=\"175.00\">4</tspan>\n",
       "\t\t<tspan x=\"135.00\" y=\"100.00\">5</tspan>\n",
       "\t</text>\n",
       "\t<g class=\"poloto_imgs poloto_ticks poloto_y\">\n",
       "\t\t<line x1=\"150.00\" x2=\"144.00\" y1=\"400.00\" y2=\"400.00\"/>\n",
       "\t\t<line x1=\"150.00\" x2=\"144.00\" y1=\"325.00\" y2=\"325.00\"/>\n",
       "\t\t<line x1=\"150.00\" x2=\"144.00\" y1=\"250.00\" y2=\"250.00\"/>\n",
       "\t\t<line x1=\"150.00\" x2=\"144.00\" y1=\"175.00\" y2=\"175.00\"/>\n",
       "\t\t<line x1=\"150.00\" x2=\"144.00\" y1=\"100.00\" y2=\"100.00\"/>\n",
       "\t</g>\n",
       "\t<text class=\"poloto_text poloto_ticks poloto_x\">\n",
       "\t\t<tspan x=\"150.00\" y=\"430.00\">1.0</tspan>\n",
       "\t\t<tspan x=\"212.50\" y=\"430.00\">1.5</tspan>\n",
       "\t\t<tspan x=\"275.00\" y=\"430.00\">2.0</tspan>\n",
       "\t\t<tspan x=\"337.50\" y=\"430.00\">2.5</tspan>\n",
       "\t\t<tspan x=\"400.00\" y=\"430.00\">3.0</tspan>\n",
       "\t\t<tspan x=\"462.50\" y=\"430.00\">3.5</tspan>\n",
       "\t\t<tspan x=\"525.00\" y=\"430.00\">4.0</tspan>\n",
       "\t\t<tspan x=\"587.50\" y=\"430.00\">4.5</tspan>\n",
       "\t\t<tspan x=\"650.00\" y=\"430.00\">5.0</tspan>\n",
       "\t</text>\n",
       "\t<g class=\"poloto_imgs poloto_ticks poloto_x\">\n",
       "\t\t<line x1=\"150.00\" x2=\"150.00\" y1=\"400.00\" y2=\"405.00\"/>\n",
       "\t\t<line x1=\"212.50\" x2=\"212.50\" y1=\"400.00\" y2=\"405.00\"/>\n",
       "\t\t<line x1=\"275.00\" x2=\"275.00\" y1=\"400.00\" y2=\"405.00\"/>\n",
       "\t\t<line x1=\"337.50\" x2=\"337.50\" y1=\"400.00\" y2=\"405.00\"/>\n",
       "\t\t<line x1=\"400.00\" x2=\"400.00\" y1=\"400.00\" y2=\"405.00\"/>\n",
       "\t\t<line x1=\"462.50\" x2=\"462.50\" y1=\"400.00\" y2=\"405.00\"/>\n",
       "\t\t<line x1=\"525.00\" x2=\"525.00\" y1=\"400.00\" y2=\"405.00\"/>\n",
       "\t\t<line x1=\"587.50\" x2=\"587.50\" y1=\"400.00\" y2=\"405.00\"/>\n",
       "\t\t<line x1=\"650.00\" x2=\"650.00\" y1=\"400.00\" y2=\"405.00\"/>\n",
       "\t</g>\n",
       "\t<path class=\"poloto_imgs poloto_ticks poloto_x\" style=\"stroke-dasharray:6.25;stroke-dashoffset:-0;\" d=\" M 150.00 400.00 L 650.00 400.00\"/>\n",
       "\t<path class=\"poloto_imgs poloto_ticks poloto_y\" style=\"stroke-dasharray:7.5;stroke-dashoffset:-0;\" d=\" M 150.00 400.00 L 150.00 100.00\"/>\n",
       "</svg>\n"
      ]
     },
     "execution_count": 35,
     "metadata": {},
     "output_type": "execute_result"
    }
   ],
   "source": [
    "println!(\"EVCXR_BEGIN_CONTENT text/html\\n{}\\nEVCXR_END_CONTENT\",res.unwrap());"
   ]
  },
  {
   "cell_type": "code",
   "execution_count": null,
   "id": "relative-breeding",
   "metadata": {},
   "outputs": [],
   "source": []
  }
 ],
 "metadata": {
  "kernelspec": {
   "display_name": "Rust",
   "language": "rust",
   "name": "rust"
  },
  "language_info": {
   "codemirror_mode": "rust",
   "file_extension": ".rs",
   "mimetype": "text/rust",
   "name": "Rust",
   "pygment_lexer": "rust",
   "version": ""
  }
 },
 "nbformat": 4,
 "nbformat_minor": 5
}
